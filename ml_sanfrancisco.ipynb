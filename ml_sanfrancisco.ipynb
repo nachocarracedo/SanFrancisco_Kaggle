{
 "cells": [
  {
   "cell_type": "code",
   "execution_count": 1,
   "metadata": {
    "collapsed": false
   },
   "outputs": [
    {
     "name": "stderr",
     "output_type": "stream",
     "text": [
      "C:\\Anaconda3\\lib\\site-packages\\sklearn\\lda.py:4: DeprecationWarning: lda.LDA has been moved to discriminant_analysis.LinearDiscriminantAnalysis in 0.17 and will be removed in 0.19\n",
      "  \"in 0.17 and will be removed in 0.19\", DeprecationWarning)\n"
     ]
    }
   ],
   "source": [
    "import pandas as pd\n",
    "\n",
    "from sklearn.preprocessing import LabelEncoder\n",
    "from sklearn.ensemble import RandomForestClassifier\n",
    "from sklearn import cross_validation\n",
    "from sklearn import pipeline, grid_search\n",
    "\n",
    "from sklearn.preprocessing import StandardScaler\n",
    "\n",
    "from sklearn.lda import LDA\n",
    "from sklearn.decomposition import PCA\n",
    "\n",
    "from sklearn.linear_model import LogisticRegression\n",
    "from sklearn.neighbors import KNeighborsClassifier\n",
    "from sklearn.ensemble import GradientBoostingClassifier\n",
    "from sklearn.ensemble import RandomForestClassifier # Gini and Entropy\n",
    "from sklearn.ensemble import ExtraTreesClassifier\n",
    "from sklearn.ensemble import AdaBoostClassifier\n",
    "from sklearn.calibration import CalibratedClassifierCV\n",
    "from sklearn.cross_validation import train_test_split\n",
    "from sklearn.neighbors import KNeighborsClassifier\n",
    "\n",
    "from sklearn.metrics import log_loss\n",
    "\n",
    "import pandas as pd\n",
    "import numpy as np\n",
    "import matplotlib.pyplot as plt\n",
    "import matplotlib.gridspec as gridspec\n",
    "%matplotlib inline\n",
    "\n",
    "import warnings\n",
    "warnings.filterwarnings(\"ignore\", category=np.VisibleDeprecationWarning) "
   ]
  },
  {
   "cell_type": "markdown",
   "metadata": {},
   "source": [
    "** load data **"
   ]
  },
  {
   "cell_type": "code",
   "execution_count": 2,
   "metadata": {
    "collapsed": false
   },
   "outputs": [
    {
     "name": "stdout",
     "output_type": "stream",
     "text": [
      "CPython 3.5.1\n",
      "IPython 4.2.0\n",
      "\n",
      "numpy 1.10.4\n",
      "pandas 0.18.1\n",
      "scikit-learn 0.17.1\n",
      "matplotlib 1.5.1\n",
      "\n",
      "compiler   : MSC v.1900 64 bit (AMD64)\n",
      "system     : Windows\n",
      "release    : 7\n",
      "machine    : AMD64\n",
      "processor  : Intel64 Family 6 Model 58 Stepping 9, GenuineIntel\n",
      "CPU cores  : 4\n",
      "interpreter: 64bit\n"
     ]
    }
   ],
   "source": [
    "#python and pkg info\n",
    "%load_ext watermark\n",
    "%watermark --m -v -p numpy,pandas,scikit-learn,matplotlib"
   ]
  },
  {
   "cell_type": "code",
   "execution_count": 3,
   "metadata": {
    "collapsed": false
   },
   "outputs": [],
   "source": [
    "x_train = pd.read_csv('x_train.csv')\n",
    "y_train = pd.read_csv('y_train.csv').values\n",
    "id_test = pd.read_csv('id_test.csv').values\n",
    "x_test = pd.read_csv('x_test.csv')"
   ]
  },
  {
   "cell_type": "code",
   "execution_count": 3,
   "metadata": {
    "collapsed": true
   },
   "outputs": [],
   "source": [
    "#x_train = pd.read_csv('x_train_cal.csv')\n",
    "#y_train = pd.read_csv('y_train_cal.csv').values\n",
    "#id_test = pd.read_csv('id_test_cal.csv').values\n",
    "#x_test = pd.read_csv('x_test_cal.csv')"
   ]
  },
  {
   "cell_type": "code",
   "execution_count": 4,
   "metadata": {
    "collapsed": false
   },
   "outputs": [],
   "source": [
    "ids = pd.read_csv(\".\\\\dataset\\\\test.csv\").Id.values"
   ]
  },
  {
   "cell_type": "code",
   "execution_count": 5,
   "metadata": {
    "collapsed": false
   },
   "outputs": [
    {
     "data": {
      "text/plain": [
       "Index(['DayOfWeek', 'PdDistrict', 'X', 'Y', 'year', 'month', 'day', 'hour',\n",
       "       'min', 'avg_moist', 'avg_prec', 'avg_temp', 'avg_wind', 'day_night',\n",
       "       'min_30_abs', 'is_block', 'is_corner', 'is_av'],\n",
       "      dtype='object')"
      ]
     },
     "execution_count": 5,
     "metadata": {},
     "output_type": "execute_result"
    }
   ],
   "source": [
    "# check columns\n",
    "x_train.columns"
   ]
  },
  {
   "cell_type": "code",
   "execution_count": 6,
   "metadata": {
    "collapsed": false
   },
   "outputs": [
    {
     "data": {
      "text/plain": [
       "LARCENY/THEFT                  174900\n",
       "OTHER OFFENSES                 126182\n",
       "NON-CRIMINAL                    92304\n",
       "ASSAULT                         76876\n",
       "DRUG/NARCOTIC                   53971\n",
       "VEHICLE THEFT                   53781\n",
       "VANDALISM                       44725\n",
       "WARRANTS                        42214\n",
       "BURGLARY                        36755\n",
       "SUSPICIOUS OCC                  31414\n",
       "MISSING PERSON                  25989\n",
       "ROBBERY                         23000\n",
       "FRAUD                           16679\n",
       "FORGERY/COUNTERFEITING          10609\n",
       "SECONDARY CODES                  9985\n",
       "WEAPON LAWS                      8555\n",
       "PROSTITUTION                     7484\n",
       "TRESPASS                         7326\n",
       "STOLEN PROPERTY                  4540\n",
       "SEX OFFENSES FORCIBLE            4388\n",
       "DISORDERLY CONDUCT               4320\n",
       "DRUNKENNESS                      4280\n",
       "RECOVERED VEHICLE                3138\n",
       "KIDNAPPING                       2341\n",
       "DRIVING UNDER THE INFLUENCE      2268\n",
       "RUNAWAY                          1946\n",
       "LIQUOR LAWS                      1903\n",
       "ARSON                            1513\n",
       "LOITERING                        1225\n",
       "EMBEZZLEMENT                     1166\n",
       "SUICIDE                           508\n",
       "FAMILY OFFENSES                   491\n",
       "BAD CHECKS                        406\n",
       "BRIBERY                           289\n",
       "EXTORTION                         256\n",
       "SEX OFFENSES NON FORCIBLE         148\n",
       "GAMBLING                          146\n",
       "PORNOGRAPHY/OBSCENE MAT            22\n",
       "TREA                                6\n",
       "Name: 0, dtype: int64"
      ]
     },
     "execution_count": 6,
     "metadata": {},
     "output_type": "execute_result"
    }
   ],
   "source": [
    "pd.DataFrame(y_train)[0].value_counts()"
   ]
  },
  {
   "cell_type": "markdown",
   "metadata": {
    "collapsed": false
   },
   "source": [
    "** Random Forest ** I Get memory error. I use it to see feature importance"
   ]
  },
  {
   "cell_type": "code",
   "execution_count": null,
   "metadata": {
    "collapsed": false
   },
   "outputs": [],
   "source": [
    "print(\"\\nTraining Random Forest ....\")\n",
    "rfc = RandomForestClassifier(n_estimators = 30, n_jobs=-1, random_state=20, criterion='gini', class_weight='auto')\n",
    "param_grid = {'min_samples_leaf': [5,10]}\n",
    "rffc_gs = grid_search.GridSearchCV(estimator = rfc, param_grid = param_grid, cv = 3, n_jobs=-1, error_score=0, verbose=2,scoring='log_loss') # \n",
    "rffc_gs.fit(x_train, y_train)\n",
    "print(\"Best parameters found by grid search:\", rffc_gs.best_params_)\n",
    "print(\"Best CV score:\", rffc_gs.best_score_)\n",
    "print(\"Best CV score:\", rffc_gs.grid_scores_)\n",
    "print(\"Best CV score:\", rffc_gs.scorer_)\n",
    "# mean: -6.46254, std: 1.69189, params: {'min_samples_leaf': 10}"
   ]
  },
  {
   "cell_type": "code",
   "execution_count": null,
   "metadata": {
    "collapsed": false
   },
   "outputs": [],
   "source": [
    "probs_rf = rffc_gs.predict_proba(x_test)\n",
    "predictions_rf  = rffc_gs.predict(x_test)"
   ]
  },
  {
   "cell_type": "code",
   "execution_count": null,
   "metadata": {
    "collapsed": false
   },
   "outputs": [],
   "source": [
    "h1 = plt.hist(y_train, bins= 33)\n",
    "plt.title('Category_training')\n",
    "plt.show()\n",
    "plt.hist(predictions, bins=33)\n",
    "plt.title('Category_predicted')\n",
    "plt.show()"
   ]
  },
  {
   "cell_type": "code",
   "execution_count": 8,
   "metadata": {
    "collapsed": false
   },
   "outputs": [
    {
     "data": {
      "text/plain": [
       "[(0.13589999999999999, 'Y'),\n",
       " (0.1323, 'X'),\n",
       " (0.086599999999999996, 'day'),\n",
       " (0.0848, 'hour'),\n",
       " (0.0785, 'avg_temp'),\n",
       " (0.075499999999999998, 'avg_moist'),\n",
       " (0.068000000000000005, 'year'),\n",
       " (0.064799999999999996, 'avg_wind'),\n",
       " (0.056599999999999998, 'month'),\n",
       " (0.052900000000000003, 'DayOfWeek'),\n",
       " (0.047399999999999998, 'min'),\n",
       " (0.046199999999999998, 'min_30_abs'),\n",
       " (0.030800000000000001, 'PdDistrict'),\n",
       " (0.0229, 'avg_prec'),\n",
       " (0.0055999999999999999, 'day_night'),\n",
       " (0.0051000000000000004, 'is_block'),\n",
       " (0.0035000000000000001, 'is_corner'),\n",
       " (0.0027000000000000001, 'is_av')]"
      ]
     },
     "execution_count": 8,
     "metadata": {},
     "output_type": "execute_result"
    }
   ],
   "source": [
    "#Best parameters found by grid search: {n_estimators = 20,'min_samples_leaf': 5}\n",
    "#Best CV3 score: 0.0495803764938\n",
    "rfc = RandomForestClassifier(n_estimators = 5, n_jobs=-1, random_state=20, criterion='gini', class_weight='auto',min_samples_leaf=5)\n",
    "rfc.fit(x_train, y_train)\n",
    "#print(rfc.score(x_train, y_train))\n",
    "features_lb = sorted(zip(map(lambda x: round(x, 4), rfc.feature_importances_), x_train.columns), reverse=True, key=lambda pair: pair[0])\n",
    "features_lb"
   ]
  },
  {
   "cell_type": "code",
   "execution_count": null,
   "metadata": {
    "collapsed": false
   },
   "outputs": [],
   "source": [
    "# create summission\n",
    "sub = pd.DataFrame(data=probs_rf_isotonic,columns=le_category.inverse_transform(abc_gs.classes_))\n",
    "sub['Id'] = ids\n",
    "sub.to_csv(\".\\submissions\\\\rf_submission_iso.csv\",index=False)"
   ]
  },
  {
   "cell_type": "markdown",
   "metadata": {},
   "source": [
    "** logistic regression ** work in progress NOT DONE!!"
   ]
  },
  {
   "cell_type": "code",
   "execution_count": null,
   "metadata": {
    "collapsed": true
   },
   "outputs": [],
   "source": [
    "x_train = pd.get_dummies(x_train)\n",
    "x_test = pd.get_dummies(x_test)\n",
    "le_category = LabelEncoder()\n",
    "y_train = le_category.fit_transform(y_train)\n",
    "lrc = LogisticRegression(random_state=20,class_weight='auto',multi_class='ovr')\n",
    "param_grid = {'C' : [1,0.5]}\n",
    "model = grid_search.GridSearchCV(estimator = lrc, param_grid = param_grid, n_jobs = -1, cv = 4, verbose = 20)\n",
    "model_fit = model.fit(x_train, y_train)\n",
    "pipe_lrd = pipeline.Pipeline([('lda', LDA(n_components = 50)),('clf', lrc])\n",
    "param_grid = {'rfr__min_samples_leaf' : [250,500],'rfr__subsample':[0.7],\"rfr__learning_rate\":[0.01,0.001]}\n",
    "model = grid_search.GridSearchCV(estimator = clf, param_grid = param_grid, n_jobs = -1, cv = 4, verbose = 20)\n",
    "model_fit = model.fit(xtrain, ytrain)\n",
    "pipe_lrd.fit(x_train_cv, y_train_cv)\n",
    "#prob_lr_lda = pipe_lrd.predict_proba(x_test_cv)[:,1]\n",
    "lg_lda_scores.append(roc_auc_score(y_test_cv,prob_lr_lda))"
   ]
  },
  {
   "cell_type": "markdown",
   "metadata": {},
   "source": [
    "** Gradient Boosting **"
   ]
  },
  {
   "cell_type": "code",
   "execution_count": 34,
   "metadata": {
    "collapsed": false
   },
   "outputs": [
    {
     "name": "stdout",
     "output_type": "stream",
     "text": [
      "\n",
      "Training Gradient Boosting ....\n",
      "Fitting 4 folds for each of 4 candidates, totalling 16 fits\n"
     ]
    },
    {
     "name": "stderr",
     "output_type": "stream",
     "text": [
      "[Parallel(n_jobs=-1)]: Done  16 out of  16 | elapsed: 77.7min finished\n"
     ]
    }
   ],
   "source": [
    "print(\"\\nTraining Gradient Boosting ....\")\n",
    "gbc = GradientBoostingClassifier(random_state=3, n_estimators = 15, max_features ='auto' )\n",
    "param_grid = {'min_samples_leaf': [5,10],'learning_rate':[0.01],'subsample':[0.8]}\n",
    "gbc_gs = grid_search.GridSearchCV(estimator = gbc, param_grid = param_grid, cv = 6, n_jobs=-1, error_score=0, verbose=2,scoring='log_loss') # \n",
    "gbc_gs_fit = gbc_gs.fit(x_train, y_train)\n",
    "#Best parameters found by grid search: {'min_samples_leaf': 50, 'learning_rate': 0.01}\n",
    "#Best CV score: 0.170917568382"
   ]
  },
  {
   "cell_type": "code",
   "execution_count": 35,
   "metadata": {
    "collapsed": false
   },
   "outputs": [
    {
     "name": "stdout",
     "output_type": "stream",
     "text": [
      "Best parameters found by grid search: {'min_samples_leaf': 5, 'subsample': 0.8, 'learning_rate': 0.01}\n",
      "Best CV score: -3.32281794219\n",
      "All scores: [mean: -3.32282, std: 0.00030, params: {'min_samples_leaf': 5, 'subsample': 0.8, 'learning_rate': 0.01}, mean: -3.32283, std: 0.00030, params: {'min_samples_leaf': 50, 'subsample': 0.8, 'learning_rate': 0.01}, mean: -3.55839, std: 0.00003, params: {'min_samples_leaf': 5, 'subsample': 0.8, 'learning_rate': 0.001}, mean: -3.55840, std: 0.00003, params: {'min_samples_leaf': 50, 'subsample': 0.8, 'learning_rate': 0.001}]\n"
     ]
    }
   ],
   "source": [
    "print(\"Best parameters found by grid search:\", gbc_gs.best_params_)\n",
    "print(\"Best CV score:\", gbc_gs.best_score_)\n",
    "print(\"All scores:\",gbc_gs.grid_scores_)"
   ]
  },
  {
   "cell_type": "code",
   "execution_count": null,
   "metadata": {
    "collapsed": false
   },
   "outputs": [],
   "source": [
    "probs = gbc_gs.predict_proba(x_test)\n",
    "predictions  = gbc_gs.predict(x_test)"
   ]
  },
  {
   "cell_type": "code",
   "execution_count": null,
   "metadata": {
    "collapsed": false
   },
   "outputs": [],
   "source": [
    "h1 = plt.hist(y_train, bins= 33)\n",
    "plt.title('Category_training')\n",
    "plt.show()\n",
    "plt.hist(predictions, bins=33)\n",
    "plt.title('Category_predicted')\n",
    "plt.show()"
   ]
  },
  {
   "cell_type": "code",
   "execution_count": null,
   "metadata": {
    "collapsed": false
   },
   "outputs": [],
   "source": [
    "# create summission\n",
    "sub = pd.DataFrame(data=probs,columns=le_category.inverse_transform(gbc.classes_))"
   ]
  },
  {
   "cell_type": "markdown",
   "metadata": {
    "collapsed": false
   },
   "source": [
    "** AdaBoost ** without calibration"
   ]
  },
  {
   "cell_type": "code",
   "execution_count": 8,
   "metadata": {
    "collapsed": false
   },
   "outputs": [
    {
     "name": "stderr",
     "output_type": "stream",
     "text": [
      "C:\\Anaconda3\\lib\\site-packages\\sklearn\\preprocessing\\label.py:125: DataConversionWarning: A column-vector y was passed when a 1d array was expected. Please change the shape of y to (n_samples, ), for example using ravel().\n",
      "  y = column_or_1d(y, warn=True)\n"
     ]
    }
   ],
   "source": [
    "# label encoder for decision trees\n",
    "le_dow = LabelEncoder()\n",
    "x_train['DayOfWeek'] = le_dow.fit_transform(x_train['DayOfWeek'])\n",
    "le_pd = LabelEncoder()\n",
    "x_train['PdDistrict'] = le_pd.fit_transform(x_train['PdDistrict'])\n",
    "le_category = LabelEncoder()\n",
    "y_train = le_category.fit_transform(y_train)\n",
    "#test\n",
    "x_test['DayOfWeek'] = le_dow.transform(x_test['DayOfWeek'])\n",
    "x_test['PdDistrict'] = le_pd.transform(x_test['PdDistrict'])"
   ]
  },
  {
   "cell_type": "code",
   "execution_count": 38,
   "metadata": {
    "collapsed": false
   },
   "outputs": [
    {
     "name": "stdout",
     "output_type": "stream",
     "text": [
      "\n",
      "Training AdaBoostClassifier ....\n",
      "Fitting 6 folds for each of 2 candidates, totalling 12 fits\n"
     ]
    },
    {
     "name": "stderr",
     "output_type": "stream",
     "text": [
      "[Parallel(n_jobs=-1)]: Done  13 out of  12 | elapsed:   19.7s remaining:    0.0s\n",
      "[Parallel(n_jobs=-1)]: Done  13 out of  12 | elapsed:   32.9s remaining:    0.0s\n",
      "[Parallel(n_jobs=-1)]: Done  13 out of  12 | elapsed:   35.5s remaining:    0.0s\n",
      "[Parallel(n_jobs=-1)]: Done  13 out of  12 | elapsed:   35.9s remaining:    0.0s\n",
      "[Parallel(n_jobs=-1)]: Done  13 out of  12 | elapsed:   36.7s remaining:    0.0s\n",
      "[Parallel(n_jobs=-1)]: Done  13 out of  12 | elapsed:   46.6s remaining:    0.0s\n",
      "[Parallel(n_jobs=-1)]: Done  13 out of  12 | elapsed:   48.1s remaining:    0.0s\n",
      "[Parallel(n_jobs=-1)]: Done  12 out of  12 | elapsed:   48.1s finished\n"
     ]
    },
    {
     "name": "stdout",
     "output_type": "stream",
     "text": [
      "Best parameters found by grid search: {'n_estimators': 2, 'learning_rate': 0.01}\n",
      "Best CV score: -2.62391572253\n",
      "All scores: [mean: -2.62392, std: 0.00448, params: {'n_estimators': 2, 'learning_rate': 0.01}, mean: -2.62411, std: 0.00444, params: {'n_estimators': 5, 'learning_rate': 0.01}]\n"
     ]
    }
   ],
   "source": [
    "print(\"\\nTraining AdaBoostClassifier ....\")\n",
    "abc = AdaBoostClassifier(random_state=3)\n",
    "param_grid = {'learning_rate': [0.01],'n_estimators':[2,5]}\n",
    "abc_gs = grid_search.GridSearchCV(estimator = abc, param_grid = param_grid, cv = 6, n_jobs=-1, error_score=0, verbose=2,scoring='log_loss') # \n",
    "abc_gs_fit = abc_gs.fit(x_train, y_train)\n",
    "print(\"Best parameters found by grid search:\", abc_gs.best_params_)\n",
    "print(\"Best CV score:\", abc_gs.best_score_)\n",
    "print(\"All scores:\",abc_gs.grid_scores_)\n",
    "# mean: -2.87001, std: 0.19207, params: {'n_estimators': 150, 'learning_rate': 0.01}\n",
    "# 0.01 worst"
   ]
  },
  {
   "cell_type": "code",
   "execution_count": null,
   "metadata": {
    "collapsed": false
   },
   "outputs": [],
   "source": [
    "# create summission for Adaboost\n",
    "sub = pd.DataFrame(data=probs,columns=le_category.inverse_transform(rfc.classes_))\n",
    "sub['Id'] = ids\n",
    "sub.to_csv(\".\\submissions\\\\ab_submission.csv\",index=False)"
   ]
  },
  {
   "cell_type": "markdown",
   "metadata": {},
   "source": [
    "** AdaBoost with Calibration ** : Get train and validation set (for calibration). "
   ]
  },
  {
   "cell_type": "code",
   "execution_count": 7,
   "metadata": {
    "collapsed": false
   },
   "outputs": [
    {
     "name": "stderr",
     "output_type": "stream",
     "text": [
      "C:\\Anaconda3\\lib\\site-packages\\sklearn\\preprocessing\\label.py:125: DataConversionWarning: A column-vector y was passed when a 1d array was expected. Please change the shape of y to (n_samples, ), for example using ravel().\n",
      "  y = column_or_1d(y, warn=True)\n"
     ]
    }
   ],
   "source": [
    "# label encoder for decision trees\n",
    "le_dow = LabelEncoder()\n",
    "x_train['DayOfWeek'] = le_dow.fit_transform(x_train['DayOfWeek'])\n",
    "le_pd = LabelEncoder()\n",
    "x_train['PdDistrict'] = le_pd.fit_transform(x_train['PdDistrict'])\n",
    "le_category = LabelEncoder()\n",
    "y_train = le_category.fit_transform(y_train)\n",
    "#test\n",
    "x_test['DayOfWeek'] = le_dow.transform(x_test['DayOfWeek'])\n",
    "x_test['PdDistrict'] = le_pd.transform(x_test['PdDistrict'])"
   ]
  },
  {
   "cell_type": "code",
   "execution_count": 9,
   "metadata": {
    "collapsed": false
   },
   "outputs": [
    {
     "name": "stdout",
     "output_type": "stream",
     "text": [
      "(658539, 18)\n",
      "(658539,)\n",
      "(219514, 18)\n",
      "(219514,)\n"
     ]
    }
   ],
   "source": [
    "#divide into validation and training set to apply calibration to probs of ensambles ML (RF, etc)\n",
    "X_train, X_validation, Y_train, Y_validation = train_test_split(x_train, y_train, test_size=0.25, random_state=1)\n",
    "print(X_train.shape)\n",
    "print(Y_train.shape)\n",
    "print(X_validation.shape)\n",
    "print(Y_validation.shape)"
   ]
  },
  {
   "cell_type": "code",
   "execution_count": 33,
   "metadata": {
    "collapsed": false
   },
   "outputs": [
    {
     "name": "stdout",
     "output_type": "stream",
     "text": [
      "\n",
      "Training AdaBoostClassifier ....\n",
      "Fitting 4 folds for each of 2 candidates, totalling 8 fits\n"
     ]
    },
    {
     "name": "stderr",
     "output_type": "stream",
     "text": [
      "[Parallel(n_jobs=-1)]: Done   8 out of   8 | elapsed:   18.7s finished\n"
     ]
    },
    {
     "name": "stdout",
     "output_type": "stream",
     "text": [
      "Best parameters found by grid search: {'n_estimators': 1, 'learning_rate': 0.01}\n",
      "Best CV score: -2.62267137675\n",
      "All scores: [mean: -2.62268, std: 0.00086, params: {'n_estimators': 2, 'learning_rate': 0.01}, mean: -2.62267, std: 0.00087, params: {'n_estimators': 1, 'learning_rate': 0.01}]\n"
     ]
    }
   ],
   "source": [
    "print(\"\\nTraining AdaBoostClassifier ....\")\n",
    "abc = AdaBoostClassifier(random_state=3)\n",
    "param_grid = {'learning_rate': [0.01],'n_estimators':[2,1]}\n",
    "abc_gs = grid_search.GridSearchCV(estimator = abc, param_grid = param_grid, cv = 4, n_jobs=-1, error_score=0, verbose=2,scoring='log_loss') # \n",
    "abc_gs.fit(X_train, Y_train)\n",
    "print(\"Best parameters found by grid search:\", abc_gs.best_params_)\n",
    "print(\"Best CV score:\", abc_gs.best_score_)\n",
    "print(\"All scores:\",abc_gs.grid_scores_)\n",
    "#mean: -2.62508, std: 0.00044, params: {'n_estimators': 50, 'learning_rate': 0.01}\n",
    "# 0.001 worst"
   ]
  },
  {
   "cell_type": "code",
   "execution_count": 12,
   "metadata": {
    "collapsed": false
   },
   "outputs": [
    {
     "data": {
      "text/plain": [
       "AdaBoostClassifier(algorithm='SAMME.R', base_estimator=None,\n",
       "          learning_rate=0.01, n_estimators=50, random_state=3)"
      ]
     },
     "execution_count": 12,
     "metadata": {},
     "output_type": "execute_result"
    }
   ],
   "source": [
    "#Calibrate probs isotonic\n",
    "abc = AdaBoostClassifier(random_state=3,learning_rate = 0.01,n_estimators=50)\n",
    "abc.fit(X_train, Y_train)"
   ]
  },
  {
   "cell_type": "code",
   "execution_count": 13,
   "metadata": {
    "collapsed": false
   },
   "outputs": [
    {
     "data": {
      "text/plain": [
       "CalibratedClassifierCV(base_estimator=AdaBoostClassifier(algorithm='SAMME.R', base_estimator=None,\n",
       "          learning_rate=0.01, n_estimators=50, random_state=3),\n",
       "            cv=2, method='isotonic')"
      ]
     },
     "execution_count": 13,
     "metadata": {},
     "output_type": "execute_result"
    }
   ],
   "source": [
    "ab_isotonic = CalibratedClassifierCV(abc, cv=2, method='isotonic')\n",
    "ab_isotonic.fit(X_validation, Y_validation)"
   ]
  },
  {
   "cell_type": "code",
   "execution_count": 14,
   "metadata": {
    "collapsed": false
   },
   "outputs": [
    {
     "data": {
      "text/plain": [
       "CalibratedClassifierCV(base_estimator=AdaBoostClassifier(algorithm='SAMME.R', base_estimator=None,\n",
       "          learning_rate=0.01, n_estimators=50, random_state=3),\n",
       "            cv=2, method='sigmoid')"
      ]
     },
     "execution_count": 14,
     "metadata": {},
     "output_type": "execute_result"
    }
   ],
   "source": [
    "#Calibrate probs sigmoid\n",
    "ab_sigmoid = CalibratedClassifierCV(abc, cv=2, method='sigmoid')\n",
    "ab_sigmoid.fit(X_validation, Y_validation)"
   ]
  },
  {
   "cell_type": "code",
   "execution_count": 15,
   "metadata": {
    "collapsed": true
   },
   "outputs": [],
   "source": [
    "probs_ab_isotonic = ab_isotonic.predict_proba(x_test)"
   ]
  },
  {
   "cell_type": "code",
   "execution_count": 16,
   "metadata": {
    "collapsed": true
   },
   "outputs": [],
   "source": [
    "probs_ab_sigmoid = ab_sigmoid.predict_proba(x_test)"
   ]
  },
  {
   "cell_type": "code",
   "execution_count": 19,
   "metadata": {
    "collapsed": true
   },
   "outputs": [],
   "source": [
    "probs = abc.predict_proba(x_test)"
   ]
  },
  {
   "cell_type": "code",
   "execution_count": 18,
   "metadata": {
    "collapsed": false
   },
   "outputs": [
    {
     "name": "stdout",
     "output_type": "stream",
     "text": [
      "[  2.64760508e-03   8.84989923e-02   3.58717776e-04   6.08417277e-04\n",
      "   2.26714546e-02   7.73899942e-03   5.57753680e-03   8.19550367e-02\n",
      "   8.34890985e-03   1.10633805e-03   4.31866159e-04   8.44961523e-04\n",
      "   1.03323420e-02   1.67459869e-02   3.38054757e-04   3.35216311e-03\n",
      "   1.54532958e-01   4.12515890e-03   2.97435796e-03   2.15260930e-02\n",
      "   9.57191833e-02   1.67929566e-01   4.74725821e-05   1.53688339e-02\n",
      "   5.56382796e-03   3.59457835e-02   1.88173150e-03   1.29388510e-02\n",
      "   5.44496843e-03   2.26231504e-04   7.86417285e-03   7.51306970e-04\n",
      "   3.74041772e-02   6.28099931e-07   9.37916184e-03   4.42469937e-02\n",
      "   4.53264809e-02   6.44294879e-02   1.48151899e-02]\n",
      "[  1.32056020e-03   8.42974774e-02   1.55873007e-04   1.84718720e-04\n",
      "   1.37992167e-03   6.03040066e-03   3.49010218e-03   1.04428639e-01\n",
      "   5.10053466e-03   2.66384170e-05   1.86199418e-04   3.27472576e-04\n",
      "   7.59671899e-03   2.26316871e-02   4.49598020e-05   2.71409976e-03\n",
      "   1.45758387e-01   1.70758387e-03   1.32871991e-03   1.65206895e-02\n",
      "   1.09468492e-01   2.05697570e-01   1.09540226e-05   2.40856892e-02\n",
      "   1.69520063e-03   3.66818720e-02   4.46783083e-04   9.54242528e-03\n",
      "   6.74019552e-03   1.03307220e-04   5.05497807e-03   1.33192085e-05\n",
      "   3.81323645e-02   0.00000000e+00   6.23092520e-03   3.87056898e-02\n",
      "   3.79229853e-02   6.57945768e-02   8.44128935e-03]\n",
      "[  1.05195338e-03   7.13913582e-02   2.89128268e-04   2.35865742e-04\n",
      "   2.61882537e-02   4.38203971e-03   4.68170257e-03   8.09596983e-02\n",
      "   5.54476037e-03   5.08636060e-04   2.51915100e-04   5.27723833e-04\n",
      "   1.14342579e-02   1.84137961e-02   1.03649796e-04   2.65820989e-03\n",
      "   2.00599462e-01   2.20950735e-03   2.25695757e-03   2.77514907e-02\n",
      "   1.05819352e-01   1.43812741e-01   1.98981553e-05   1.84208548e-02\n",
      "   1.64756505e-03   3.12395836e-02   1.93086652e-03   1.07170647e-02\n",
      "   5.08531603e-03   1.46183659e-04   4.18793105e-03   6.77766246e-04\n",
      "   3.27836840e-02   1.25240104e-05   8.39332526e-03   5.19510986e-02\n",
      "   6.13782007e-02   5.26821904e-02   7.65348686e-03]\n"
     ]
    }
   ],
   "source": [
    "print(probs[9])\n",
    "print(probs_ab_isotonic[9])\n",
    "print(probs_ab_sigmoid[9])"
   ]
  },
  {
   "cell_type": "code",
   "execution_count": 29,
   "metadata": {
    "collapsed": false
   },
   "outputs": [
    {
     "data": {
      "image/png": "[encoded data removed]",
      "text/plain": [
       "<matplotlib.figure.Figure at 0xac97eb8>"
      ]
     },
     "metadata": {},
     "output_type": "display_data"
    }
   ],
   "source": [
    "plt.hist(probs)\n",
    "plt.show()"
   ]
  },
  {
   "cell_type": "code",
   "execution_count": 28,
   "metadata": {
    "collapsed": false
   },
   "outputs": [
    {
     "data": {
      "image/png": "[encoded data removed]",
      "text/plain": [
       "<matplotlib.figure.Figure at 0xac670f0>"
      ]
     },
     "metadata": {},
     "output_type": "display_data"
    }
   ],
   "source": [
    "plt.hist(probs_ab_isotonic)\n",
    "plt.show()"
   ]
  },
  {
   "cell_type": "code",
   "execution_count": 30,
   "metadata": {
    "collapsed": false
   },
   "outputs": [
    {
     "data": {
      "image/png": "[encoded data removed]",
      "text/plain": [
       "<matplotlib.figure.Figure at 0xc90b400>"
      ]
     },
     "metadata": {},
     "output_type": "display_data"
    }
   ],
   "source": [
    "plt.hist(probs_ab_sigmoid)\n",
    "plt.show()"
   ]
  },
  {
   "cell_type": "code",
   "execution_count": 20,
   "metadata": {
    "collapsed": true
   },
   "outputs": [],
   "source": [
    "# create summission for Adaboost\n",
    "sub = pd.DataFrame(data=probs,columns=le_category.inverse_transform(rfc.classes_))\n",
    "sub['Id'] = ids\n",
    "sub.to_csv(\".\\submissions\\\\ab_submission.csv\",index=False)"
   ]
  },
  {
   "cell_type": "code",
   "execution_count": 21,
   "metadata": {
    "collapsed": true
   },
   "outputs": [],
   "source": [
    "# create summission for Adaboost iso\n",
    "sub1 = pd.DataFrame(data=probs_ab_isotonic,columns=le_category.inverse_transform(rfc.classes_))\n",
    "sub1['Id'] = ids\n",
    "sub1.to_csv(\".\\submissions\\\\ab_iso_submission.csv\",index=False)"
   ]
  },
  {
   "cell_type": "code",
   "execution_count": 22,
   "metadata": {
    "collapsed": true
   },
   "outputs": [],
   "source": [
    "# create summission for Adaboost sig\n",
    "sub2 = pd.DataFrame(data=probs_ab_sigmoid,columns=le_category.inverse_transform(rfc.classes_))\n",
    "sub2['Id'] = ids\n",
    "sub2.to_csv(\".\\submissions\\\\ab_sig_submission.csv\",index=False)"
   ]
  },
  {
   "cell_type": "markdown",
   "metadata": {},
   "source": [
    "** KNN **"
   ]
  },
  {
   "cell_type": "code",
   "execution_count": 8,
   "metadata": {
    "collapsed": false
   },
   "outputs": [
    {
     "data": {
      "text/plain": [
       "Index(['X', 'Y', 'year', 'month', 'day', 'hour', 'min', 'avg_moist',\n",
       "       'avg_prec', 'avg_temp', 'avg_wind', 'day_night', 'min_30_abs',\n",
       "       'is_block', 'is_corner', 'is_av', 'DayOfWeek_Friday',\n",
       "       'DayOfWeek_Monday', 'DayOfWeek_Saturday', 'DayOfWeek_Sunday',\n",
       "       'DayOfWeek_Thursday', 'DayOfWeek_Tuesday', 'DayOfWeek_Wednesday',\n",
       "       'PdDistrict_BAYVIEW', 'PdDistrict_CENTRAL', 'PdDistrict_INGLESIDE',\n",
       "       'PdDistrict_MISSION', 'PdDistrict_NORTHERN', 'PdDistrict_PARK',\n",
       "       'PdDistrict_RICHMOND', 'PdDistrict_SOUTHERN', 'PdDistrict_TARAVAL',\n",
       "       'PdDistrict_TENDERLOIN'],\n",
       "      dtype='object')"
      ]
     },
     "execution_count": 8,
     "metadata": {},
     "output_type": "execute_result"
    }
   ],
   "source": [
    "x_train = pd.get_dummies(x_train)\n",
    "x_test = pd.get_dummies(x_test)\n",
    "le_category = LabelEncoder()\n",
    "y_train = le_category.fit_transform(y_train)"
   ]
  },
  {
   "cell_type": "code",
   "execution_count": 7,
   "metadata": {
    "collapsed": false
   },
   "outputs": [
    {
     "name": "stdout",
     "output_type": "stream",
     "text": [
      "\n",
      "KNeighborsClassifier ....\n",
      "Fitting 4 folds for each of 3 candidates, totalling 12 fits\n"
     ]
    },
    {
     "name": "stderr",
     "output_type": "stream",
     "text": [
      "[Parallel(n_jobs=-1)]: Done  13 out of  12 | elapsed:  6.0min remaining:    0.0s\n",
      "[Parallel(n_jobs=-1)]: Done  13 out of  12 | elapsed:  6.1min remaining:    0.0s\n",
      "[Parallel(n_jobs=-1)]: Done  13 out of  12 | elapsed:  9.5min remaining:    0.0s\n",
      "[Parallel(n_jobs=-1)]: Done  13 out of  12 | elapsed:  9.6min remaining:    0.0s\n",
      "[Parallel(n_jobs=-1)]: Done  13 out of  12 | elapsed:  9.6min remaining:    0.0s\n",
      "[Parallel(n_jobs=-1)]: Done  13 out of  12 | elapsed:  9.7min remaining:    0.0s\n",
      "[Parallel(n_jobs=-1)]: Done  13 out of  12 | elapsed: 10.8min remaining:    0.0s\n",
      "[Parallel(n_jobs=-1)]: Done  12 out of  12 | elapsed: 10.8min finished\n"
     ]
    },
    {
     "name": "stdout",
     "output_type": "stream",
     "text": [
      "Best parameters found by grid search: {'n_neighbors': 10}\n",
      "Best CV score: -20.5048105107\n",
      "All scores: [mean: -28.48319, std: 1.91871, params: {'n_neighbors': 3}, mean: -25.65890, std: 1.98796, params: {'n_neighbors': 5}, mean: -20.50481, std: 1.64441, params: {'n_neighbors': 10}]\n"
     ]
    }
   ],
   "source": [
    "#KNeighborsClassifier\n",
    "print(\"\\nKNeighborsClassifier ....\")\n",
    "knn = KNeighborsClassifier(n_jobs=-1)\n",
    "param_grid = {'n_neighbors': [50,100]}\n",
    "knn_gs = grid_search.GridSearchCV(estimator = knn, param_grid = param_grid, cv = 6, n_jobs=-1, error_score=0, verbose=2,scoring='log_loss') # \n",
    "knn_gs_fit = knn_gs.fit(x_train, y_train)\n",
    "print(\"Best parameters found by grid search:\", knn_gs.best_params_)\n",
    "print(\"Best CV score:\", knn_gs.best_score_)\n",
    "print(\"All scores:\",knn_gs.grid_scores_)"
   ]
  },
  {
   "cell_type": "markdown",
   "metadata": {
    "collapsed": true
   },
   "source": [
    "** SVM **"
   ]
  },
  {
   "cell_type": "code",
   "execution_count": null,
   "metadata": {
    "collapsed": true
   },
   "outputs": [],
   "source": []
  },
  {
   "cell_type": "code",
   "execution_count": null,
   "metadata": {
    "collapsed": true
   },
   "outputs": [],
   "source": []
  },
  {
   "cell_type": "code",
   "execution_count": null,
   "metadata": {
    "collapsed": true
   },
   "outputs": [],
   "source": []
  }
 ],
 "metadata": {
  "kernelspec": {
   "display_name": "Python 3",
   "language": "python",
   "name": "python3"
  },
  "language_info": {
   "codemirror_mode": {
    "name": "ipython",
    "version": 3
   },
   "file_extension": ".py",
   "mimetype": "text/x-python",
   "name": "python",
   "nbconvert_exporter": "python",
   "pygments_lexer": "ipython3",
   "version": "3.5.1"
  }
 },
 "nbformat": 4,
 "nbformat_minor": 0
}
