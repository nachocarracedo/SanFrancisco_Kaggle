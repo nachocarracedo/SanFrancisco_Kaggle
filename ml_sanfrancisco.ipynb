{
 "cells": [
  {
   "cell_type": "code",
   "execution_count": 1,
   "metadata": {
    "collapsed": false
   },
   "outputs": [
    {
     "name": "stderr",
     "output_type": "stream",
     "text": [
      "C:\\Anaconda3\\lib\\site-packages\\sklearn\\utils\\fixes.py:64: DeprecationWarning: inspect.getargspec() is deprecated, use inspect.signature() instead\n",
      "  if 'order' in inspect.getargspec(np.copy)[0]:\n"
     ]
    }
   ],
   "source": [
    "import pandas as pd\n",
    "\n",
    "from sklearn.preprocessing import LabelEncoder\n",
    "from sklearn.ensemble import RandomForestClassifier\n",
    "from sklearn import cross_validation\n",
    "from sklearn import pipeline, grid_search\n",
    "\n",
    "from sklearn.preprocessing import StandardScaler\n",
    "\n",
    "from sklearn.lda import LDA\n",
    "from sklearn.decomposition import PCA\n",
    "\n",
    "from sklearn.linear_model import LogisticRegression\n",
    "from sklearn.neighbors import KNeighborsClassifier\n",
    "from sklearn.ensemble import GradientBoostingClassifier\n",
    "from sklearn.ensemble import RandomForestClassifier # Gini and Entropy\n",
    "from sklearn.ensemble import ExtraTreesClassifier\n",
    "from sklearn.ensemble import AdaBoostClassifier"
   ]
  },
  {
   "cell_type": "code",
   "execution_count": 2,
   "metadata": {
    "collapsed": false
   },
   "outputs": [],
   "source": [
    "x_train = pd.read_csv('x_train.csv')\n",
    "y_train = pd.read_csv('y_train.csv').values\n",
    "id_test = pd.read_csv('id_test.csv').values\n",
    "x_test = pd.read_csv('x_test.csv')"
   ]
  },
  {
   "cell_type": "markdown",
   "metadata": {
    "slideshow": {
     "slide_type": "-"
    }
   },
   "source": [
    "logistic regression"
   ]
  },
  {
   "cell_type": "code",
   "execution_count": null,
   "metadata": {
    "collapsed": false
   },
   "outputs": [],
   "source": [
    "x_train = pd.get_dummies(x_train)\n",
    "x_test = pd.get_dummies(x_test)\n",
    "le_category = LabelEncoder()\n",
    "y_train = le_category.fit_transform(y_train)"
   ]
  },
  {
   "cell_type": "code",
   "execution_count": null,
   "metadata": {
    "collapsed": false
   },
   "outputs": [],
   "source": [
    "lrc = LogisticRegression(random_state=20,class_weight='auto',multi_class='ovr')\n",
    "param_grid = {'C' : [1,0.5]}\n",
    "model = grid_search.GridSearchCV(estimator = lrc, param_grid = param_grid, n_jobs = -1, cv = 4, verbose = 20)\n",
    "model_fit = model.fit(x_train, y_train)"
   ]
  },
  {
   "cell_type": "code",
   "execution_count": null,
   "metadata": {
    "collapsed": false
   },
   "outputs": [],
   "source": [
    "pipe_lrd = pipeline.Pipeline([('lda', LDA(n_components = 50)),('clf', lrc])\n",
    "param_grid = {'rfr__min_samples_leaf' : [250,500],'rfr__subsample':[0.7],\"rfr__learning_rate\":[0.01,0.001]}\n",
    "model = grid_search.GridSearchCV(estimator = clf, param_grid = param_grid, n_jobs = -1, cv = 4, verbose = 20)\n",
    "model_fit = model.fit(xtrain, ytrain)\n",
    "pipe_lrd.fit(x_train_cv, y_train_cv)\n",
    "#prob_lr_lda = pipe_lrd.predict_proba(x_test_cv)[:,1]\n",
    "lg_lda_scores.append(roc_auc_score(y_test_cv,prob_lr_lda))"
   ]
  },
  {
   "cell_type": "code",
   "execution_count": null,
   "metadata": {
    "collapsed": false
   },
   "outputs": [],
   "source": [
    "# label encoder for RF\n",
    "le_dow = LabelEncoder()\n",
    "x_train['DayOfWeek'] = le_dow.fit_transform(x_train['DayOfWeek'])\n",
    "le_pd = LabelEncoder()\n",
    "x_train['PdDistrict'] = le_pd.fit_transform(x_train['PdDistrict'])\n",
    "le_category = LabelEncoder()\n",
    "y_train = le_category.fit_transform(y_train)\n",
    "#test\n",
    "x_test['DayOfWeek'] = le_dow.transform(x_test['DayOfWeek'])\n",
    "x_test['PdDistrict'] = le_pd.transform(x_test['PdDistrict'])"
   ]
  },
  {
   "cell_type": "code",
   "execution_count": null,
   "metadata": {
    "collapsed": false
   },
   "outputs": [],
   "source": [
    "print(\"\\nTraining Random Forest ....\")\n",
    "rfc = RandomForestClassifier(n_estimators = 40, n_jobs=-1, random_state=20, criterion='gini', class_weight='auto')\n",
    "param_grid = {'min_samples_leaf': [300,350]}\n",
    "rffc_gs = grid_search.GridSearchCV(estimator = rfc, param_grid = param_grid, cv = 3, n_jobs=-1, error_score=0, verbose=2) # \n",
    "rffc_gs_fit = rffc_gs.fit(x_train, y_train)\n",
    "print(\"Best parameters found by grid search:\", rffc_gs.best_params_)\n",
    "print(\"Best CV score:\", rffc_gs.best_score_)"
   ]
  },
  {
   "cell_type": "code",
   "execution_count": null,
   "metadata": {
    "collapsed": false
   },
   "outputs": [],
   "source": [
    "print(\"\\nTraining Gradient Boosting ....\")\n",
    "gbc = GradientBoostingClassifier(random_state=3, n_estimators = 50, max_features ='auto', subsample=0.8, learning_rate=0.1)\n",
    "param_grid = {'min_samples_leaf': [50,200]}\n",
    "gbc_gs = grid_search.GridSearchCV(estimator = gbc, param_grid = param_grid, cv = 3, n_jobs=-1, error_score=0, verbose=2) # \n",
    "gbc_gs_fit = gbc_gs.fit(x_train, y_train)\n",
    "print(\"Best parameters found by grid search:\", gbc_gs.best_params_)\n",
    "print(\"Best CV score:\", gbc_gs.best_score_)"
   ]
  },
  {
   "cell_type": "code",
   "execution_count": null,
   "metadata": {
    "collapsed": false
   },
   "outputs": [],
   "source": [
    "print(\"\\nTraining AdaBoostClassifier ....\")\n",
    "abc = AdaBoostClassifier(n_estimators=2000, random_state=3,learning_rate=0.3)\n",
    "param_grid = {'learning_rate': [0.3,0.8]}\n",
    "abc_gs = grid_search.GridSearchCV(estimator = abc, param_grid = param_grid, cv = 3, n_jobs=-1, error_score=0, verbose=2) # \n",
    "abc_gs_fit = abc_gs.fit(x_train, y_train)\n",
    "print(\"Best parameters found by grid search:\", abc_gs.best_params_)\n",
    "print(\"Best CV score:\", abc_gs.best_score_)"
   ]
  },
  {
   "cell_type": "code",
   "execution_count": 1,
   "metadata": {
    "collapsed": false
   },
   "outputs": [],
   "source": [
    "#Best parameters found by grid search: {n_estimators = 30,'min_samples_leaf': 300}\n",
    "#Best CV3 score: 0.0371197962756\n",
    "#rfc = RandomForestClassifier(n_estimators = 40, n_jobs=-1, random_state=20, criterion='gini', class_weight='auto',min_samples_leaf=300)\n",
    "#rfc.fit(x_train, y_train)\n",
    "#rfc.score(x_train, y_train)\n",
    "#features_lb = sorted(zip(map(lambda x: round(x, 4), rfc.feature_importances_), x_train.columns), reverse=True, key=lambda pair: pair[0])\n",
    "#features_lb"
   ]
  },
  {
   "cell_type": "code",
   "execution_count": null,
   "metadata": {
    "collapsed": true
   },
   "outputs": [],
   "source": [
    "probs = rfc.predict_proba(x_test)"
   ]
  },
  {
   "cell_type": "code",
   "execution_count": null,
   "metadata": {
    "collapsed": true
   },
   "outputs": [],
   "source": [
    "plt.hist(classes, bins= 33)\n",
    "plt.show()\n",
    "plt.hist(y_train, bins=33)\n",
    "plt.show()"
   ]
  },
  {
   "cell_type": "code",
   "execution_count": null,
   "metadata": {
    "collapsed": true
   },
   "outputs": [],
   "source": [
    "# submission\n",
    "probs = rfc.predict_proba(x_test)"
   ]
  }
 ],
 "metadata": {
  "kernelspec": {
   "display_name": "Python 3",
   "language": "python",
   "name": "python3"
  },
  "language_info": {
   "codemirror_mode": {
    "name": "ipython",
    "version": 3
   },
   "file_extension": ".py",
   "mimetype": "text/x-python",
   "name": "python",
   "nbconvert_exporter": "python",
   "pygments_lexer": "ipython3",
   "version": "3.5.1"
  }
 },
 "nbformat": 4,
 "nbformat_minor": 0
}
