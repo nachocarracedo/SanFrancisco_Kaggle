{
 "cells": [
  {
   "cell_type": "code",
   "execution_count": 9,
   "metadata": {
    "collapsed": false
   },
   "outputs": [],
   "source": [
    "import pandas as pd\n",
    "\n",
    "from sklearn.preprocessing import LabelEncoder\n",
    "from sklearn.ensemble import RandomForestClassifier\n",
    "from sklearn import cross_validation\n",
    "from sklearn import pipeline, grid_search\n",
    "\n",
    "from sklearn.preprocessing import StandardScaler\n",
    "\n",
    "from sklearn.lda import LDA\n",
    "from sklearn.decomposition import PCA\n",
    "\n",
    "from sklearn.linear_model import LogisticRegression\n",
    "from sklearn.neighbors import KNeighborsClassifier\n",
    "from sklearn.ensemble import GradientBoostingClassifier\n",
    "from sklearn.ensemble import RandomForestClassifier # Gini and Entropy\n",
    "from sklearn.ensemble import ExtraTreesClassifier\n",
    "from sklearn.ensemble import AdaBoostClassifier\n",
    "\n",
    "import pandas as pd\n",
    "import numpy as np\n",
    "import matplotlib.pyplot as plt\n",
    "import matplotlib.gridspec as gridspec\n",
    "%matplotlib inline\n",
    "\n",
    "import warnings\n",
    "warnings.filterwarnings(\"ignore\", category=np.VisibleDeprecationWarning) "
   ]
  },
  {
   "cell_type": "code",
   "execution_count": 2,
   "metadata": {
    "collapsed": false
   },
   "outputs": [],
   "source": [
    "x_train = pd.read_csv('x_train.csv')\n",
    "y_train = pd.read_csv('y_train.csv').values\n",
    "id_test = pd.read_csv('id_test.csv').values\n",
    "x_test = pd.read_csv('x_test.csv')"
   ]
  },
  {
   "cell_type": "code",
   "execution_count": 4,
   "metadata": {
    "collapsed": false
   },
   "outputs": [
    {
     "name": "stderr",
     "output_type": "stream",
     "text": [
      "C:\\Anaconda3\\lib\\site-packages\\sklearn\\preprocessing\\label.py:127: DataConversionWarning: A column-vector y was passed when a 1d array was expected. Please change the shape of y to (n_samples, ), for example using ravel().\n",
      "  y = column_or_1d(y, warn=True)\n"
     ]
    }
   ],
   "source": [
    "# label encoder for RF\n",
    "le_dow = LabelEncoder()\n",
    "x_train['DayOfWeek'] = le_dow.fit_transform(x_train['DayOfWeek'])\n",
    "le_pd = LabelEncoder()\n",
    "x_train['PdDistrict'] = le_pd.fit_transform(x_train['PdDistrict'])\n",
    "le_category = LabelEncoder()\n",
    "y_train = le_category.fit_transform(y_train)\n",
    "#test\n",
    "x_test['DayOfWeek'] = le_dow.transform(x_test['DayOfWeek'])\n",
    "x_test['PdDistrict'] = le_pd.transform(x_test['PdDistrict'])"
   ]
  },
  {
   "cell_type": "code",
   "execution_count": 5,
   "metadata": {
    "collapsed": false
   },
   "outputs": [
    {
     "name": "stdout",
     "output_type": "stream",
     "text": [
      "\n",
      "Training Random Forest ....\n",
      "Fitting 4 folds for each of 2 candidates, totalling 8 fits"
     ]
    },
    {
     "name": "stderr",
     "output_type": "stream",
     "text": [
      "C:\\Anaconda3\\lib\\site-packages\\sklearn\\base.py:175: DeprecationWarning: inspect.getargspec() is deprecated, use inspect.signature() instead\n",
      "  args, varargs, kw, default = inspect.getargspec(init)\n",
      "C:\\Anaconda3\\lib\\site-packages\\sklearn\\base.py:175: DeprecationWarning: inspect.getargspec() is deprecated, use inspect.signature() instead\n",
      "  args, varargs, kw, default = inspect.getargspec(init)\n",
      "C:\\Anaconda3\\lib\\site-packages\\sklearn\\base.py:175: DeprecationWarning: inspect.getargspec() is deprecated, use inspect.signature() instead\n",
      "  args, varargs, kw, default = inspect.getargspec(init)\n",
      "C:\\Anaconda3\\lib\\site-packages\\sklearn\\base.py:175: DeprecationWarning: inspect.getargspec() is deprecated, use inspect.signature() instead\n",
      "  args, varargs, kw, default = inspect.getargspec(init)\n",
      "C:\\Anaconda3\\lib\\site-packages\\sklearn\\base.py:175: DeprecationWarning: inspect.getargspec() is deprecated, use inspect.signature() instead\n",
      "  args, varargs, kw, default = inspect.getargspec(init)\n",
      "C:\\Anaconda3\\lib\\site-packages\\sklearn\\base.py:175: DeprecationWarning: inspect.getargspec() is deprecated, use inspect.signature() instead\n",
      "  args, varargs, kw, default = inspect.getargspec(init)\n",
      "C:\\Anaconda3\\lib\\site-packages\\sklearn\\base.py:175: DeprecationWarning: inspect.getargspec() is deprecated, use inspect.signature() instead\n",
      "  args, varargs, kw, default = inspect.getargspec(init)\n",
      "C:\\Anaconda3\\lib\\site-packages\\sklearn\\base.py:175: DeprecationWarning: inspect.getargspec() is deprecated, use inspect.signature() instead\n",
      "  args, varargs, kw, default = inspect.getargspec(init)\n",
      "C:\\Anaconda3\\lib\\site-packages\\sklearn\\base.py:175: DeprecationWarning: inspect.getargspec() is deprecated, use inspect.signature() instead\n",
      "  args, varargs, kw, default = inspect.getargspec(init)\n",
      "C:\\Anaconda3\\lib\\site-packages\\sklearn\\base.py:175: DeprecationWarning: inspect.getargspec() is deprecated, use inspect.signature() instead\n",
      "  args, varargs, kw, default = inspect.getargspec(init)\n",
      "C:\\Anaconda3\\lib\\site-packages\\sklearn\\base.py:175: DeprecationWarning: inspect.getargspec() is deprecated, use inspect.signature() instead\n",
      "  args, varargs, kw, default = inspect.getargspec(init)\n",
      "C:\\Anaconda3\\lib\\site-packages\\sklearn\\base.py:175: DeprecationWarning: inspect.getargspec() is deprecated, use inspect.signature() instead\n",
      "  args, varargs, kw, default = inspect.getargspec(init)\n",
      "C:\\Anaconda3\\lib\\site-packages\\sklearn\\base.py:175: DeprecationWarning: inspect.getargspec() is deprecated, use inspect.signature() instead\n",
      "  args, varargs, kw, default = inspect.getargspec(init)\n",
      "C:\\Anaconda3\\lib\\site-packages\\sklearn\\base.py:175: DeprecationWarning: inspect.getargspec() is deprecated, use inspect.signature() instead\n",
      "  args, varargs, kw, default = inspect.getargspec(init)\n",
      "C:\\Anaconda3\\lib\\site-packages\\sklearn\\base.py:175: DeprecationWarning: inspect.getargspec() is deprecated, use inspect.signature() instead\n",
      "  args, varargs, kw, default = inspect.getargspec(init)\n",
      "C:\\Anaconda3\\lib\\site-packages\\sklearn\\base.py:175: DeprecationWarning: inspect.getargspec() is deprecated, use inspect.signature() instead\n",
      "  args, varargs, kw, default = inspect.getargspec(init)\n",
      "C:\\Anaconda3\\lib\\site-packages\\sklearn\\base.py:175: DeprecationWarning: inspect.getargspec() is deprecated, use inspect.signature() instead\n",
      "  args, varargs, kw, default = inspect.getargspec(init)\n",
      "C:\\Anaconda3\\lib\\site-packages\\sklearn\\base.py:175: DeprecationWarning: inspect.getargspec() is deprecated, use inspect.signature() instead\n",
      "  args, varargs, kw, default = inspect.getargspec(init)\n",
      "[Parallel(n_jobs=-1)]: Done   1 jobs       | elapsed:   58.1s\n",
      "[Parallel(n_jobs=-1)]: Done   2 out of   8 | elapsed:  1.1min remaining:  3.2min\n",
      "[Parallel(n_jobs=-1)]: Done   7 out of   8 | elapsed:  2.1min remaining:   18.1s\n",
      "[Parallel(n_jobs=-1)]: Done   8 out of   8 | elapsed:  2.2min finished\n",
      "C:\\Anaconda3\\lib\\site-packages\\sklearn\\base.py:175: DeprecationWarning: inspect.getargspec() is deprecated, use inspect.signature() instead\n",
      "  args, varargs, kw, default = inspect.getargspec(init)\n",
      "C:\\Anaconda3\\lib\\site-packages\\sklearn\\base.py:175: DeprecationWarning: inspect.getargspec() is deprecated, use inspect.signature() instead\n",
      "  args, varargs, kw, default = inspect.getargspec(init)\n",
      "C:\\Anaconda3\\lib\\site-packages\\sklearn\\base.py:175: DeprecationWarning: inspect.getargspec() is deprecated, use inspect.signature() instead\n",
      "  args, varargs, kw, default = inspect.getargspec(init)\n",
      "C:\\Anaconda3\\lib\\site-packages\\sklearn\\base.py:175: DeprecationWarning: inspect.getargspec() is deprecated, use inspect.signature() instead\n",
      "  args, varargs, kw, default = inspect.getargspec(init)\n"
     ]
    },
    {
     "name": "stdout",
     "output_type": "stream",
     "text": [
      "\n",
      "Best parameters found by grid search: {'min_samples_leaf': 5}\n",
      "Best CV score: 0.0495803764938\n"
     ]
    },
    {
     "name": "stderr",
     "output_type": "stream",
     "text": [
      "C:\\Anaconda3\\lib\\site-packages\\sklearn\\base.py:175: DeprecationWarning: inspect.getargspec() is deprecated, use inspect.signature() instead\n",
      "  args, varargs, kw, default = inspect.getargspec(init)\n",
      "C:\\Anaconda3\\lib\\site-packages\\sklearn\\base.py:175: DeprecationWarning: inspect.getargspec() is deprecated, use inspect.signature() instead\n",
      "  args, varargs, kw, default = inspect.getargspec(init)\n",
      "C:\\Anaconda3\\lib\\site-packages\\sklearn\\base.py:175: DeprecationWarning: inspect.getargspec() is deprecated, use inspect.signature() instead\n",
      "  args, varargs, kw, default = inspect.getargspec(init)\n",
      "C:\\Anaconda3\\lib\\site-packages\\sklearn\\base.py:175: DeprecationWarning: inspect.getargspec() is deprecated, use inspect.signature() instead\n",
      "  args, varargs, kw, default = inspect.getargspec(init)\n",
      "C:\\Anaconda3\\lib\\site-packages\\sklearn\\base.py:175: DeprecationWarning: inspect.getargspec() is deprecated, use inspect.signature() instead\n",
      "  args, varargs, kw, default = inspect.getargspec(init)\n",
      "C:\\Anaconda3\\lib\\site-packages\\sklearn\\base.py:175: DeprecationWarning: inspect.getargspec() is deprecated, use inspect.signature() instead\n",
      "  args, varargs, kw, default = inspect.getargspec(init)\n",
      "C:\\Anaconda3\\lib\\site-packages\\sklearn\\base.py:175: DeprecationWarning: inspect.getargspec() is deprecated, use inspect.signature() instead\n",
      "  args, varargs, kw, default = inspect.getargspec(init)\n",
      "C:\\Anaconda3\\lib\\site-packages\\sklearn\\base.py:175: DeprecationWarning: inspect.getargspec() is deprecated, use inspect.signature() instead\n",
      "  args, varargs, kw, default = inspect.getargspec(init)\n",
      "C:\\Anaconda3\\lib\\site-packages\\sklearn\\base.py:175: DeprecationWarning: inspect.getargspec() is deprecated, use inspect.signature() instead\n",
      "  args, varargs, kw, default = inspect.getargspec(init)\n",
      "C:\\Anaconda3\\lib\\site-packages\\sklearn\\base.py:175: DeprecationWarning: inspect.getargspec() is deprecated, use inspect.signature() instead\n",
      "  args, varargs, kw, default = inspect.getargspec(init)\n",
      "C:\\Anaconda3\\lib\\site-packages\\sklearn\\base.py:175: DeprecationWarning: inspect.getargspec() is deprecated, use inspect.signature() instead\n",
      "  args, varargs, kw, default = inspect.getargspec(init)\n",
      "C:\\Anaconda3\\lib\\site-packages\\sklearn\\base.py:175: DeprecationWarning: inspect.getargspec() is deprecated, use inspect.signature() instead\n",
      "  args, varargs, kw, default = inspect.getargspec(init)\n",
      "C:\\Anaconda3\\lib\\site-packages\\sklearn\\base.py:175: DeprecationWarning: inspect.getargspec() is deprecated, use inspect.signature() instead\n",
      "  args, varargs, kw, default = inspect.getargspec(init)\n",
      "C:\\Anaconda3\\lib\\site-packages\\sklearn\\base.py:175: DeprecationWarning: inspect.getargspec() is deprecated, use inspect.signature() instead\n",
      "  args, varargs, kw, default = inspect.getargspec(init)\n",
      "C:\\Anaconda3\\lib\\site-packages\\sklearn\\base.py:175: DeprecationWarning: inspect.getargspec() is deprecated, use inspect.signature() instead\n",
      "  args, varargs, kw, default = inspect.getargspec(init)\n",
      "C:\\Anaconda3\\lib\\site-packages\\sklearn\\base.py:175: DeprecationWarning: inspect.getargspec() is deprecated, use inspect.signature() instead\n",
      "  args, varargs, kw, default = inspect.getargspec(init)\n",
      "C:\\Anaconda3\\lib\\site-packages\\sklearn\\base.py:175: DeprecationWarning: inspect.getargspec() is deprecated, use inspect.signature() instead\n",
      "  args, varargs, kw, default = inspect.getargspec(init)\n",
      "C:\\Anaconda3\\lib\\site-packages\\sklearn\\base.py:175: DeprecationWarning: inspect.getargspec() is deprecated, use inspect.signature() instead\n",
      "  args, varargs, kw, default = inspect.getargspec(init)\n",
      "C:\\Anaconda3\\lib\\site-packages\\sklearn\\base.py:175: DeprecationWarning: inspect.getargspec() is deprecated, use inspect.signature() instead\n",
      "  args, varargs, kw, default = inspect.getargspec(init)\n",
      "C:\\Anaconda3\\lib\\site-packages\\sklearn\\base.py:175: DeprecationWarning: inspect.getargspec() is deprecated, use inspect.signature() instead\n",
      "  args, varargs, kw, default = inspect.getargspec(init)\n",
      "C:\\Anaconda3\\lib\\site-packages\\sklearn\\base.py:175: DeprecationWarning: inspect.getargspec() is deprecated, use inspect.signature() instead\n",
      "  args, varargs, kw, default = inspect.getargspec(init)\n",
      "C:\\Anaconda3\\lib\\site-packages\\sklearn\\base.py:175: DeprecationWarning: inspect.getargspec() is deprecated, use inspect.signature() instead\n",
      "  args, varargs, kw, default = inspect.getargspec(init)\n",
      "C:\\Anaconda3\\lib\\site-packages\\sklearn\\base.py:175: DeprecationWarning: inspect.getargspec() is deprecated, use inspect.signature() instead\n",
      "  args, varargs, kw, default = inspect.getargspec(init)\n",
      "C:\\Anaconda3\\lib\\site-packages\\sklearn\\base.py:175: DeprecationWarning: inspect.getargspec() is deprecated, use inspect.signature() instead\n",
      "  args, varargs, kw, default = inspect.getargspec(init)\n",
      "C:\\Anaconda3\\lib\\site-packages\\sklearn\\base.py:175: DeprecationWarning: inspect.getargspec() is deprecated, use inspect.signature() instead\n",
      "  args, varargs, kw, default = inspect.getargspec(init)\n",
      "C:\\Anaconda3\\lib\\site-packages\\sklearn\\base.py:175: DeprecationWarning: inspect.getargspec() is deprecated, use inspect.signature() instead\n",
      "  args, varargs, kw, default = inspect.getargspec(init)\n",
      "C:\\Anaconda3\\lib\\site-packages\\sklearn\\base.py:175: DeprecationWarning: inspect.getargspec() is deprecated, use inspect.signature() instead\n",
      "  args, varargs, kw, default = inspect.getargspec(init)\n",
      "C:\\Anaconda3\\lib\\site-packages\\sklearn\\base.py:175: DeprecationWarning: inspect.getargspec() is deprecated, use inspect.signature() instead\n",
      "  args, varargs, kw, default = inspect.getargspec(init)\n",
      "C:\\Anaconda3\\lib\\site-packages\\sklearn\\base.py:175: DeprecationWarning: inspect.getargspec() is deprecated, use inspect.signature() instead\n",
      "  args, varargs, kw, default = inspect.getargspec(init)\n",
      "C:\\Anaconda3\\lib\\site-packages\\sklearn\\base.py:175: DeprecationWarning: inspect.getargspec() is deprecated, use inspect.signature() instead\n",
      "  args, varargs, kw, default = inspect.getargspec(init)\n",
      "C:\\Anaconda3\\lib\\site-packages\\sklearn\\base.py:175: DeprecationWarning: inspect.getargspec() is deprecated, use inspect.signature() instead\n",
      "  args, varargs, kw, default = inspect.getargspec(init)\n",
      "C:\\Anaconda3\\lib\\site-packages\\sklearn\\base.py:175: DeprecationWarning: inspect.getargspec() is deprecated, use inspect.signature() instead\n",
      "  args, varargs, kw, default = inspect.getargspec(init)\n",
      "C:\\Anaconda3\\lib\\site-packages\\sklearn\\base.py:175: DeprecationWarning: inspect.getargspec() is deprecated, use inspect.signature() instead\n",
      "  args, varargs, kw, default = inspect.getargspec(init)\n",
      "C:\\Anaconda3\\lib\\site-packages\\sklearn\\base.py:175: DeprecationWarning: inspect.getargspec() is deprecated, use inspect.signature() instead\n",
      "  args, varargs, kw, default = inspect.getargspec(init)\n",
      "C:\\Anaconda3\\lib\\site-packages\\sklearn\\base.py:175: DeprecationWarning: inspect.getargspec() is deprecated, use inspect.signature() instead\n",
      "  args, varargs, kw, default = inspect.getargspec(init)\n",
      "C:\\Anaconda3\\lib\\site-packages\\sklearn\\base.py:175: DeprecationWarning: inspect.getargspec() is deprecated, use inspect.signature() instead\n",
      "  args, varargs, kw, default = inspect.getargspec(init)\n",
      "C:\\Anaconda3\\lib\\site-packages\\sklearn\\base.py:175: DeprecationWarning: inspect.getargspec() is deprecated, use inspect.signature() instead\n",
      "  args, varargs, kw, default = inspect.getargspec(init)\n",
      "C:\\Anaconda3\\lib\\site-packages\\sklearn\\base.py:175: DeprecationWarning: inspect.getargspec() is deprecated, use inspect.signature() instead\n",
      "  args, varargs, kw, default = inspect.getargspec(init)\n",
      "C:\\Anaconda3\\lib\\site-packages\\sklearn\\base.py:175: DeprecationWarning: inspect.getargspec() is deprecated, use inspect.signature() instead\n",
      "  args, varargs, kw, default = inspect.getargspec(init)\n",
      "C:\\Anaconda3\\lib\\site-packages\\sklearn\\base.py:175: DeprecationWarning: inspect.getargspec() is deprecated, use inspect.signature() instead\n",
      "  args, varargs, kw, default = inspect.getargspec(init)\n",
      "C:\\Anaconda3\\lib\\site-packages\\sklearn\\base.py:175: DeprecationWarning: inspect.getargspec() is deprecated, use inspect.signature() instead\n",
      "  args, varargs, kw, default = inspect.getargspec(init)\n",
      "C:\\Anaconda3\\lib\\site-packages\\sklearn\\base.py:175: DeprecationWarning: inspect.getargspec() is deprecated, use inspect.signature() instead\n",
      "  args, varargs, kw, default = inspect.getargspec(init)\n",
      "C:\\Anaconda3\\lib\\site-packages\\sklearn\\base.py:175: DeprecationWarning: inspect.getargspec() is deprecated, use inspect.signature() instead\n",
      "  args, varargs, kw, default = inspect.getargspec(init)\n",
      "C:\\Anaconda3\\lib\\site-packages\\sklearn\\base.py:175: DeprecationWarning: inspect.getargspec() is deprecated, use inspect.signature() instead\n",
      "  args, varargs, kw, default = inspect.getargspec(init)\n",
      "C:\\Anaconda3\\lib\\site-packages\\sklearn\\base.py:175: DeprecationWarning: inspect.getargspec() is deprecated, use inspect.signature() instead\n",
      "  args, varargs, kw, default = inspect.getargspec(init)\n",
      "C:\\Anaconda3\\lib\\site-packages\\sklearn\\base.py:175: DeprecationWarning: inspect.getargspec() is deprecated, use inspect.signature() instead\n",
      "  args, varargs, kw, default = inspect.getargspec(init)\n",
      "C:\\Anaconda3\\lib\\site-packages\\sklearn\\base.py:175: DeprecationWarning: inspect.getargspec() is deprecated, use inspect.signature() instead\n",
      "  args, varargs, kw, default = inspect.getargspec(init)\n",
      "C:\\Anaconda3\\lib\\site-packages\\sklearn\\base.py:175: DeprecationWarning: inspect.getargspec() is deprecated, use inspect.signature() instead\n",
      "  args, varargs, kw, default = inspect.getargspec(init)\n",
      "C:\\Anaconda3\\lib\\site-packages\\sklearn\\base.py:175: DeprecationWarning: inspect.getargspec() is deprecated, use inspect.signature() instead\n",
      "  args, varargs, kw, default = inspect.getargspec(init)\n",
      "C:\\Anaconda3\\lib\\site-packages\\sklearn\\base.py:175: DeprecationWarning: inspect.getargspec() is deprecated, use inspect.signature() instead\n",
      "  args, varargs, kw, default = inspect.getargspec(init)\n",
      "C:\\Anaconda3\\lib\\site-packages\\sklearn\\base.py:175: DeprecationWarning: inspect.getargspec() is deprecated, use inspect.signature() instead\n",
      "  args, varargs, kw, default = inspect.getargspec(init)\n",
      "C:\\Anaconda3\\lib\\site-packages\\sklearn\\base.py:175: DeprecationWarning: inspect.getargspec() is deprecated, use inspect.signature() instead\n",
      "  args, varargs, kw, default = inspect.getargspec(init)\n",
      "C:\\Anaconda3\\lib\\site-packages\\sklearn\\base.py:175: DeprecationWarning: inspect.getargspec() is deprecated, use inspect.signature() instead\n",
      "  args, varargs, kw, default = inspect.getargspec(init)\n",
      "C:\\Anaconda3\\lib\\site-packages\\sklearn\\base.py:175: DeprecationWarning: inspect.getargspec() is deprecated, use inspect.signature() instead\n",
      "  args, varargs, kw, default = inspect.getargspec(init)\n",
      "C:\\Anaconda3\\lib\\site-packages\\sklearn\\base.py:175: DeprecationWarning: inspect.getargspec() is deprecated, use inspect.signature() instead\n",
      "  args, varargs, kw, default = inspect.getargspec(init)\n",
      "C:\\Anaconda3\\lib\\site-packages\\sklearn\\base.py:175: DeprecationWarning: inspect.getargspec() is deprecated, use inspect.signature() instead\n",
      "  args, varargs, kw, default = inspect.getargspec(init)\n",
      "C:\\Anaconda3\\lib\\site-packages\\sklearn\\base.py:175: DeprecationWarning: inspect.getargspec() is deprecated, use inspect.signature() instead\n",
      "  args, varargs, kw, default = inspect.getargspec(init)\n",
      "C:\\Anaconda3\\lib\\site-packages\\sklearn\\base.py:175: DeprecationWarning: inspect.getargspec() is deprecated, use inspect.signature() instead\n",
      "  args, varargs, kw, default = inspect.getargspec(init)\n",
      "C:\\Anaconda3\\lib\\site-packages\\sklearn\\base.py:175: DeprecationWarning: inspect.getargspec() is deprecated, use inspect.signature() instead\n",
      "  args, varargs, kw, default = inspect.getargspec(init)\n",
      "C:\\Anaconda3\\lib\\site-packages\\sklearn\\base.py:175: DeprecationWarning: inspect.getargspec() is deprecated, use inspect.signature() instead\n",
      "  args, varargs, kw, default = inspect.getargspec(init)\n",
      "C:\\Anaconda3\\lib\\site-packages\\sklearn\\base.py:175: DeprecationWarning: inspect.getargspec() is deprecated, use inspect.signature() instead\n",
      "  args, varargs, kw, default = inspect.getargspec(init)\n",
      "C:\\Anaconda3\\lib\\site-packages\\sklearn\\base.py:175: DeprecationWarning: inspect.getargspec() is deprecated, use inspect.signature() instead\n",
      "  args, varargs, kw, default = inspect.getargspec(init)\n",
      "C:\\Anaconda3\\lib\\site-packages\\sklearn\\base.py:175: DeprecationWarning: inspect.getargspec() is deprecated, use inspect.signature() instead\n",
      "  args, varargs, kw, default = inspect.getargspec(init)\n",
      "C:\\Anaconda3\\lib\\site-packages\\sklearn\\base.py:175: DeprecationWarning: inspect.getargspec() is deprecated, use inspect.signature() instead\n",
      "  args, varargs, kw, default = inspect.getargspec(init)\n",
      "C:\\Anaconda3\\lib\\site-packages\\sklearn\\base.py:175: DeprecationWarning: inspect.getargspec() is deprecated, use inspect.signature() instead\n",
      "  args, varargs, kw, default = inspect.getargspec(init)\n",
      "C:\\Anaconda3\\lib\\site-packages\\sklearn\\base.py:175: DeprecationWarning: inspect.getargspec() is deprecated, use inspect.signature() instead\n",
      "  args, varargs, kw, default = inspect.getargspec(init)\n",
      "C:\\Anaconda3\\lib\\site-packages\\sklearn\\base.py:175: DeprecationWarning: inspect.getargspec() is deprecated, use inspect.signature() instead\n",
      "  args, varargs, kw, default = inspect.getargspec(init)\n",
      "C:\\Anaconda3\\lib\\site-packages\\sklearn\\base.py:175: DeprecationWarning: inspect.getargspec() is deprecated, use inspect.signature() instead\n",
      "  args, varargs, kw, default = inspect.getargspec(init)\n",
      "C:\\Anaconda3\\lib\\site-packages\\sklearn\\base.py:175: DeprecationWarning: inspect.getargspec() is deprecated, use inspect.signature() instead\n",
      "  args, varargs, kw, default = inspect.getargspec(init)\n",
      "C:\\Anaconda3\\lib\\site-packages\\sklearn\\base.py:175: DeprecationWarning: inspect.getargspec() is deprecated, use inspect.signature() instead\n",
      "  args, varargs, kw, default = inspect.getargspec(init)\n",
      "C:\\Anaconda3\\lib\\site-packages\\sklearn\\base.py:175: DeprecationWarning: inspect.getargspec() is deprecated, use inspect.signature() instead\n",
      "  args, varargs, kw, default = inspect.getargspec(init)\n",
      "C:\\Anaconda3\\lib\\site-packages\\sklearn\\base.py:175: DeprecationWarning: inspect.getargspec() is deprecated, use inspect.signature() instead\n",
      "  args, varargs, kw, default = inspect.getargspec(init)\n",
      "C:\\Anaconda3\\lib\\site-packages\\sklearn\\base.py:175: DeprecationWarning: inspect.getargspec() is deprecated, use inspect.signature() instead\n",
      "  args, varargs, kw, default = inspect.getargspec(init)\n",
      "C:\\Anaconda3\\lib\\site-packages\\sklearn\\base.py:175: DeprecationWarning: inspect.getargspec() is deprecated, use inspect.signature() instead\n",
      "  args, varargs, kw, default = inspect.getargspec(init)\n",
      "C:\\Anaconda3\\lib\\site-packages\\sklearn\\base.py:175: DeprecationWarning: inspect.getargspec() is deprecated, use inspect.signature() instead\n",
      "  args, varargs, kw, default = inspect.getargspec(init)\n",
      "C:\\Anaconda3\\lib\\site-packages\\sklearn\\base.py:175: DeprecationWarning: inspect.getargspec() is deprecated, use inspect.signature() instead\n",
      "  args, varargs, kw, default = inspect.getargspec(init)\n",
      "C:\\Anaconda3\\lib\\site-packages\\sklearn\\base.py:175: DeprecationWarning: inspect.getargspec() is deprecated, use inspect.signature() instead\n",
      "  args, varargs, kw, default = inspect.getargspec(init)\n",
      "C:\\Anaconda3\\lib\\site-packages\\sklearn\\base.py:175: DeprecationWarning: inspect.getargspec() is deprecated, use inspect.signature() instead\n",
      "  args, varargs, kw, default = inspect.getargspec(init)\n",
      "C:\\Anaconda3\\lib\\site-packages\\sklearn\\base.py:175: DeprecationWarning: inspect.getargspec() is deprecated, use inspect.signature() instead\n",
      "  args, varargs, kw, default = inspect.getargspec(init)\n"
     ]
    }
   ],
   "source": [
    "print(\"\\nTraining Random Forest ....\")\n",
    "rfc = RandomForestClassifier(n_estimators = 20, n_jobs=-1, random_state=20, criterion='gini', class_weight='auto')\n",
    "param_grid = {'min_samples_leaf': [5,10]}\n",
    "rffc_gs = grid_search.GridSearchCV(estimator = rfc, param_grid = param_grid, cv = 4, n_jobs=-1, error_score=0, verbose=2) # \n",
    "rffc_gs_fit = rffc_gs.fit(x_train, y_train)\n",
    "print(\"Best parameters found by grid search:\", rffc_gs.best_params_)\n",
    "print(\"Best CV score:\", rffc_gs.best_score_)"
   ]
  },
  {
   "cell_type": "code",
   "execution_count": 5,
   "metadata": {
    "collapsed": false
   },
   "outputs": [
    {
     "name": "stderr",
     "output_type": "stream",
     "text": [
      "C:\\Anaconda3\\lib\\site-packages\\sklearn\\base.py:175: DeprecationWarning: inspect.getargspec() is deprecated, use inspect.signature() instead\n",
      "  args, varargs, kw, default = inspect.getargspec(init)\n",
      "C:\\Anaconda3\\lib\\site-packages\\sklearn\\base.py:175: DeprecationWarning: inspect.getargspec() is deprecated, use inspect.signature() instead\n",
      "  args, varargs, kw, default = inspect.getargspec(init)\n",
      "C:\\Anaconda3\\lib\\site-packages\\sklearn\\base.py:175: DeprecationWarning: inspect.getargspec() is deprecated, use inspect.signature() instead\n",
      "  args, varargs, kw, default = inspect.getargspec(init)\n",
      "C:\\Anaconda3\\lib\\site-packages\\sklearn\\base.py:175: DeprecationWarning: inspect.getargspec() is deprecated, use inspect.signature() instead\n",
      "  args, varargs, kw, default = inspect.getargspec(init)\n",
      "C:\\Anaconda3\\lib\\site-packages\\sklearn\\base.py:175: DeprecationWarning: inspect.getargspec() is deprecated, use inspect.signature() instead\n",
      "  args, varargs, kw, default = inspect.getargspec(init)\n",
      "C:\\Anaconda3\\lib\\site-packages\\sklearn\\base.py:175: DeprecationWarning: inspect.getargspec() is deprecated, use inspect.signature() instead\n",
      "  args, varargs, kw, default = inspect.getargspec(init)\n",
      "C:\\Anaconda3\\lib\\site-packages\\sklearn\\base.py:175: DeprecationWarning: inspect.getargspec() is deprecated, use inspect.signature() instead\n",
      "  args, varargs, kw, default = inspect.getargspec(init)\n",
      "C:\\Anaconda3\\lib\\site-packages\\sklearn\\base.py:175: DeprecationWarning: inspect.getargspec() is deprecated, use inspect.signature() instead\n",
      "  args, varargs, kw, default = inspect.getargspec(init)\n",
      "C:\\Anaconda3\\lib\\site-packages\\sklearn\\base.py:175: DeprecationWarning: inspect.getargspec() is deprecated, use inspect.signature() instead\n",
      "  args, varargs, kw, default = inspect.getargspec(init)\n",
      "C:\\Anaconda3\\lib\\site-packages\\sklearn\\base.py:175: DeprecationWarning: inspect.getargspec() is deprecated, use inspect.signature() instead\n",
      "  args, varargs, kw, default = inspect.getargspec(init)\n",
      "C:\\Anaconda3\\lib\\site-packages\\sklearn\\base.py:175: DeprecationWarning: inspect.getargspec() is deprecated, use inspect.signature() instead\n",
      "  args, varargs, kw, default = inspect.getargspec(init)\n",
      "C:\\Anaconda3\\lib\\site-packages\\sklearn\\base.py:175: DeprecationWarning: inspect.getargspec() is deprecated, use inspect.signature() instead\n",
      "  args, varargs, kw, default = inspect.getargspec(init)\n",
      "C:\\Anaconda3\\lib\\site-packages\\sklearn\\base.py:175: DeprecationWarning: inspect.getargspec() is deprecated, use inspect.signature() instead\n",
      "  args, varargs, kw, default = inspect.getargspec(init)\n",
      "C:\\Anaconda3\\lib\\site-packages\\sklearn\\base.py:175: DeprecationWarning: inspect.getargspec() is deprecated, use inspect.signature() instead\n",
      "  args, varargs, kw, default = inspect.getargspec(init)\n",
      "C:\\Anaconda3\\lib\\site-packages\\sklearn\\base.py:175: DeprecationWarning: inspect.getargspec() is deprecated, use inspect.signature() instead\n",
      "  args, varargs, kw, default = inspect.getargspec(init)\n",
      "C:\\Anaconda3\\lib\\site-packages\\sklearn\\base.py:175: DeprecationWarning: inspect.getargspec() is deprecated, use inspect.signature() instead\n",
      "  args, varargs, kw, default = inspect.getargspec(init)\n",
      "C:\\Anaconda3\\lib\\site-packages\\sklearn\\base.py:175: DeprecationWarning: inspect.getargspec() is deprecated, use inspect.signature() instead\n",
      "  args, varargs, kw, default = inspect.getargspec(init)\n",
      "C:\\Anaconda3\\lib\\site-packages\\sklearn\\base.py:175: DeprecationWarning: inspect.getargspec() is deprecated, use inspect.signature() instead\n",
      "  args, varargs, kw, default = inspect.getargspec(init)\n",
      "C:\\Anaconda3\\lib\\site-packages\\sklearn\\base.py:175: DeprecationWarning: inspect.getargspec() is deprecated, use inspect.signature() instead\n",
      "  args, varargs, kw, default = inspect.getargspec(init)\n",
      "C:\\Anaconda3\\lib\\site-packages\\sklearn\\base.py:175: DeprecationWarning: inspect.getargspec() is deprecated, use inspect.signature() instead\n",
      "  args, varargs, kw, default = inspect.getargspec(init)\n",
      "C:\\Anaconda3\\lib\\site-packages\\sklearn\\base.py:175: DeprecationWarning: inspect.getargspec() is deprecated, use inspect.signature() instead\n",
      "  args, varargs, kw, default = inspect.getargspec(init)\n",
      "C:\\Anaconda3\\lib\\site-packages\\sklearn\\base.py:175: DeprecationWarning: inspect.getargspec() is deprecated, use inspect.signature() instead\n",
      "  args, varargs, kw, default = inspect.getargspec(init)\n",
      "C:\\Anaconda3\\lib\\site-packages\\sklearn\\base.py:175: DeprecationWarning: inspect.getargspec() is deprecated, use inspect.signature() instead\n",
      "  args, varargs, kw, default = inspect.getargspec(init)\n",
      "C:\\Anaconda3\\lib\\site-packages\\sklearn\\base.py:175: DeprecationWarning: inspect.getargspec() is deprecated, use inspect.signature() instead\n",
      "  args, varargs, kw, default = inspect.getargspec(init)\n",
      "C:\\Anaconda3\\lib\\site-packages\\sklearn\\base.py:175: DeprecationWarning: inspect.getargspec() is deprecated, use inspect.signature() instead\n",
      "  args, varargs, kw, default = inspect.getargspec(init)\n",
      "C:\\Anaconda3\\lib\\site-packages\\sklearn\\base.py:175: DeprecationWarning: inspect.getargspec() is deprecated, use inspect.signature() instead\n",
      "  args, varargs, kw, default = inspect.getargspec(init)\n",
      "C:\\Anaconda3\\lib\\site-packages\\sklearn\\base.py:175: DeprecationWarning: inspect.getargspec() is deprecated, use inspect.signature() instead\n",
      "  args, varargs, kw, default = inspect.getargspec(init)\n",
      "C:\\Anaconda3\\lib\\site-packages\\sklearn\\base.py:175: DeprecationWarning: inspect.getargspec() is deprecated, use inspect.signature() instead\n",
      "  args, varargs, kw, default = inspect.getargspec(init)\n",
      "C:\\Anaconda3\\lib\\site-packages\\sklearn\\base.py:175: DeprecationWarning: inspect.getargspec() is deprecated, use inspect.signature() instead\n",
      "  args, varargs, kw, default = inspect.getargspec(init)\n",
      "C:\\Anaconda3\\lib\\site-packages\\sklearn\\base.py:175: DeprecationWarning: inspect.getargspec() is deprecated, use inspect.signature() instead\n",
      "  args, varargs, kw, default = inspect.getargspec(init)\n",
      "C:\\Anaconda3\\lib\\site-packages\\sklearn\\base.py:175: DeprecationWarning: inspect.getargspec() is deprecated, use inspect.signature() instead\n",
      "  args, varargs, kw, default = inspect.getargspec(init)\n",
      "C:\\Anaconda3\\lib\\site-packages\\sklearn\\base.py:175: DeprecationWarning: inspect.getargspec() is deprecated, use inspect.signature() instead\n",
      "  args, varargs, kw, default = inspect.getargspec(init)\n",
      "C:\\Anaconda3\\lib\\site-packages\\sklearn\\base.py:175: DeprecationWarning: inspect.getargspec() is deprecated, use inspect.signature() instead\n",
      "  args, varargs, kw, default = inspect.getargspec(init)\n",
      "C:\\Anaconda3\\lib\\site-packages\\sklearn\\base.py:175: DeprecationWarning: inspect.getargspec() is deprecated, use inspect.signature() instead\n",
      "  args, varargs, kw, default = inspect.getargspec(init)\n",
      "C:\\Anaconda3\\lib\\site-packages\\sklearn\\base.py:175: DeprecationWarning: inspect.getargspec() is deprecated, use inspect.signature() instead\n",
      "  args, varargs, kw, default = inspect.getargspec(init)\n",
      "C:\\Anaconda3\\lib\\site-packages\\sklearn\\base.py:175: DeprecationWarning: inspect.getargspec() is deprecated, use inspect.signature() instead\n",
      "  args, varargs, kw, default = inspect.getargspec(init)\n",
      "C:\\Anaconda3\\lib\\site-packages\\sklearn\\base.py:175: DeprecationWarning: inspect.getargspec() is deprecated, use inspect.signature() instead\n",
      "  args, varargs, kw, default = inspect.getargspec(init)\n",
      "C:\\Anaconda3\\lib\\site-packages\\sklearn\\base.py:175: DeprecationWarning: inspect.getargspec() is deprecated, use inspect.signature() instead\n",
      "  args, varargs, kw, default = inspect.getargspec(init)\n",
      "C:\\Anaconda3\\lib\\site-packages\\sklearn\\base.py:175: DeprecationWarning: inspect.getargspec() is deprecated, use inspect.signature() instead\n",
      "  args, varargs, kw, default = inspect.getargspec(init)\n",
      "C:\\Anaconda3\\lib\\site-packages\\sklearn\\base.py:175: DeprecationWarning: inspect.getargspec() is deprecated, use inspect.signature() instead\n",
      "  args, varargs, kw, default = inspect.getargspec(init)\n",
      "C:\\Anaconda3\\lib\\site-packages\\sklearn\\base.py:175: DeprecationWarning: inspect.getargspec() is deprecated, use inspect.signature() instead\n",
      "  args, varargs, kw, default = inspect.getargspec(init)\n",
      "C:\\Anaconda3\\lib\\site-packages\\sklearn\\base.py:175: DeprecationWarning: inspect.getargspec() is deprecated, use inspect.signature() instead\n",
      "  args, varargs, kw, default = inspect.getargspec(init)\n",
      "C:\\Anaconda3\\lib\\site-packages\\sklearn\\base.py:175: DeprecationWarning: inspect.getargspec() is deprecated, use inspect.signature() instead\n",
      "  args, varargs, kw, default = inspect.getargspec(init)\n",
      "C:\\Anaconda3\\lib\\site-packages\\sklearn\\base.py:175: DeprecationWarning: inspect.getargspec() is deprecated, use inspect.signature() instead\n",
      "  args, varargs, kw, default = inspect.getargspec(init)\n",
      "C:\\Anaconda3\\lib\\site-packages\\sklearn\\base.py:175: DeprecationWarning: inspect.getargspec() is deprecated, use inspect.signature() instead\n",
      "  args, varargs, kw, default = inspect.getargspec(init)\n",
      "C:\\Anaconda3\\lib\\site-packages\\sklearn\\base.py:175: DeprecationWarning: inspect.getargspec() is deprecated, use inspect.signature() instead\n",
      "  args, varargs, kw, default = inspect.getargspec(init)\n",
      "C:\\Anaconda3\\lib\\site-packages\\sklearn\\base.py:175: DeprecationWarning: inspect.getargspec() is deprecated, use inspect.signature() instead\n",
      "  args, varargs, kw, default = inspect.getargspec(init)\n",
      "C:\\Anaconda3\\lib\\site-packages\\sklearn\\base.py:175: DeprecationWarning: inspect.getargspec() is deprecated, use inspect.signature() instead\n",
      "  args, varargs, kw, default = inspect.getargspec(init)\n",
      "C:\\Anaconda3\\lib\\site-packages\\sklearn\\base.py:175: DeprecationWarning: inspect.getargspec() is deprecated, use inspect.signature() instead\n",
      "  args, varargs, kw, default = inspect.getargspec(init)\n",
      "C:\\Anaconda3\\lib\\site-packages\\sklearn\\base.py:175: DeprecationWarning: inspect.getargspec() is deprecated, use inspect.signature() instead\n",
      "  args, varargs, kw, default = inspect.getargspec(init)\n",
      "C:\\Anaconda3\\lib\\site-packages\\sklearn\\base.py:175: DeprecationWarning: inspect.getargspec() is deprecated, use inspect.signature() instead\n",
      "  args, varargs, kw, default = inspect.getargspec(init)\n",
      "C:\\Anaconda3\\lib\\site-packages\\sklearn\\base.py:175: DeprecationWarning: inspect.getargspec() is deprecated, use inspect.signature() instead\n",
      "  args, varargs, kw, default = inspect.getargspec(init)\n",
      "C:\\Anaconda3\\lib\\site-packages\\sklearn\\base.py:175: DeprecationWarning: inspect.getargspec() is deprecated, use inspect.signature() instead\n",
      "  args, varargs, kw, default = inspect.getargspec(init)\n",
      "C:\\Anaconda3\\lib\\site-packages\\sklearn\\base.py:175: DeprecationWarning: inspect.getargspec() is deprecated, use inspect.signature() instead\n",
      "  args, varargs, kw, default = inspect.getargspec(init)\n",
      "C:\\Anaconda3\\lib\\site-packages\\sklearn\\base.py:175: DeprecationWarning: inspect.getargspec() is deprecated, use inspect.signature() instead\n",
      "  args, varargs, kw, default = inspect.getargspec(init)\n",
      "C:\\Anaconda3\\lib\\site-packages\\sklearn\\base.py:175: DeprecationWarning: inspect.getargspec() is deprecated, use inspect.signature() instead\n",
      "  args, varargs, kw, default = inspect.getargspec(init)\n",
      "C:\\Anaconda3\\lib\\site-packages\\sklearn\\base.py:175: DeprecationWarning: inspect.getargspec() is deprecated, use inspect.signature() instead\n",
      "  args, varargs, kw, default = inspect.getargspec(init)\n",
      "C:\\Anaconda3\\lib\\site-packages\\sklearn\\base.py:175: DeprecationWarning: inspect.getargspec() is deprecated, use inspect.signature() instead\n",
      "  args, varargs, kw, default = inspect.getargspec(init)\n",
      "C:\\Anaconda3\\lib\\site-packages\\sklearn\\base.py:175: DeprecationWarning: inspect.getargspec() is deprecated, use inspect.signature() instead\n",
      "  args, varargs, kw, default = inspect.getargspec(init)\n",
      "C:\\Anaconda3\\lib\\site-packages\\sklearn\\base.py:175: DeprecationWarning: inspect.getargspec() is deprecated, use inspect.signature() instead\n",
      "  args, varargs, kw, default = inspect.getargspec(init)\n",
      "C:\\Anaconda3\\lib\\site-packages\\sklearn\\base.py:175: DeprecationWarning: inspect.getargspec() is deprecated, use inspect.signature() instead\n",
      "  args, varargs, kw, default = inspect.getargspec(init)\n",
      "C:\\Anaconda3\\lib\\site-packages\\sklearn\\base.py:175: DeprecationWarning: inspect.getargspec() is deprecated, use inspect.signature() instead\n",
      "  args, varargs, kw, default = inspect.getargspec(init)\n",
      "C:\\Anaconda3\\lib\\site-packages\\sklearn\\base.py:175: DeprecationWarning: inspect.getargspec() is deprecated, use inspect.signature() instead\n",
      "  args, varargs, kw, default = inspect.getargspec(init)\n",
      "C:\\Anaconda3\\lib\\site-packages\\sklearn\\base.py:175: DeprecationWarning: inspect.getargspec() is deprecated, use inspect.signature() instead\n",
      "  args, varargs, kw, default = inspect.getargspec(init)\n",
      "C:\\Anaconda3\\lib\\site-packages\\sklearn\\base.py:175: DeprecationWarning: inspect.getargspec() is deprecated, use inspect.signature() instead\n",
      "  args, varargs, kw, default = inspect.getargspec(init)\n",
      "C:\\Anaconda3\\lib\\site-packages\\sklearn\\base.py:175: DeprecationWarning: inspect.getargspec() is deprecated, use inspect.signature() instead\n",
      "  args, varargs, kw, default = inspect.getargspec(init)\n",
      "C:\\Anaconda3\\lib\\site-packages\\sklearn\\base.py:175: DeprecationWarning: inspect.getargspec() is deprecated, use inspect.signature() instead\n",
      "  args, varargs, kw, default = inspect.getargspec(init)\n",
      "C:\\Anaconda3\\lib\\site-packages\\sklearn\\base.py:175: DeprecationWarning: inspect.getargspec() is deprecated, use inspect.signature() instead\n",
      "  args, varargs, kw, default = inspect.getargspec(init)\n",
      "C:\\Anaconda3\\lib\\site-packages\\sklearn\\base.py:175: DeprecationWarning: inspect.getargspec() is deprecated, use inspect.signature() instead\n",
      "  args, varargs, kw, default = inspect.getargspec(init)\n",
      "C:\\Anaconda3\\lib\\site-packages\\sklearn\\base.py:175: DeprecationWarning: inspect.getargspec() is deprecated, use inspect.signature() instead\n",
      "  args, varargs, kw, default = inspect.getargspec(init)\n",
      "C:\\Anaconda3\\lib\\site-packages\\sklearn\\base.py:175: DeprecationWarning: inspect.getargspec() is deprecated, use inspect.signature() instead\n",
      "  args, varargs, kw, default = inspect.getargspec(init)\n",
      "C:\\Anaconda3\\lib\\site-packages\\sklearn\\base.py:175: DeprecationWarning: inspect.getargspec() is deprecated, use inspect.signature() instead\n",
      "  args, varargs, kw, default = inspect.getargspec(init)\n",
      "C:\\Anaconda3\\lib\\site-packages\\sklearn\\base.py:175: DeprecationWarning: inspect.getargspec() is deprecated, use inspect.signature() instead\n",
      "  args, varargs, kw, default = inspect.getargspec(init)\n",
      "C:\\Anaconda3\\lib\\site-packages\\sklearn\\base.py:175: DeprecationWarning: inspect.getargspec() is deprecated, use inspect.signature() instead\n",
      "  args, varargs, kw, default = inspect.getargspec(init)\n",
      "C:\\Anaconda3\\lib\\site-packages\\sklearn\\base.py:175: DeprecationWarning: inspect.getargspec() is deprecated, use inspect.signature() instead\n",
      "  args, varargs, kw, default = inspect.getargspec(init)\n",
      "C:\\Anaconda3\\lib\\site-packages\\sklearn\\base.py:175: DeprecationWarning: inspect.getargspec() is deprecated, use inspect.signature() instead\n",
      "  args, varargs, kw, default = inspect.getargspec(init)\n",
      "C:\\Anaconda3\\lib\\site-packages\\sklearn\\base.py:175: DeprecationWarning: inspect.getargspec() is deprecated, use inspect.signature() instead\n",
      "  args, varargs, kw, default = inspect.getargspec(init)\n",
      "C:\\Anaconda3\\lib\\site-packages\\sklearn\\base.py:175: DeprecationWarning: inspect.getargspec() is deprecated, use inspect.signature() instead\n",
      "  args, varargs, kw, default = inspect.getargspec(init)\n",
      "C:\\Anaconda3\\lib\\site-packages\\sklearn\\base.py:175: DeprecationWarning: inspect.getargspec() is deprecated, use inspect.signature() instead\n",
      "  args, varargs, kw, default = inspect.getargspec(init)\n",
      "C:\\Anaconda3\\lib\\site-packages\\sklearn\\base.py:175: DeprecationWarning: inspect.getargspec() is deprecated, use inspect.signature() instead\n",
      "  args, varargs, kw, default = inspect.getargspec(init)\n"
     ]
    },
    {
     "data": {
      "text/plain": [
       "[(0.1648, 'X'),\n",
       " (0.16239999999999999, 'Y'),\n",
       " (0.095500000000000002, 'hour'),\n",
       " (0.095200000000000007, 'day'),\n",
       " (0.083400000000000002, 'avg_temp'),\n",
       " (0.080000000000000002, 'avg_moist'),\n",
       " (0.073499999999999996, 'avg_wind'),\n",
       " (0.065600000000000006, 'year'),\n",
       " (0.061800000000000001, 'month'),\n",
       " (0.056800000000000003, 'DayOfWeek'),\n",
       " (0.029499999999999998, 'PdDistrict'),\n",
       " (0.0258, 'avg_prec'),\n",
       " (0.0057000000000000002, 'day_night')]"
      ]
     },
     "execution_count": 5,
     "metadata": {},
     "output_type": "execute_result"
    }
   ],
   "source": [
    "#Best parameters found by grid search: {n_estimators = 20,'min_samples_leaf': 5}\n",
    "#Best CV3 score: 0.0495803764938\n",
    "rfc = RandomForestClassifier(n_estimators = 20, n_jobs=-1, random_state=20, criterion='gini', class_weight='auto',min_samples_leaf=5)\n",
    "rfc.fit(x_train, y_train)\n",
    "rfc.score(x_train, y_train)\n",
    "features_lb = sorted(zip(map(lambda x: round(x, 4), rfc.feature_importances_), x_train.columns), reverse=True, key=lambda pair: pair[0])\n",
    "features_lb"
   ]
  },
  {
   "cell_type": "code",
   "execution_count": 13,
   "metadata": {
    "collapsed": true
   },
   "outputs": [],
   "source": [
    "probs = rfc.predict_proba(x_test)\n",
    "predictions  = rfc.predict(x_test)"
   ]
  },
  {
   "cell_type": "code",
   "execution_count": 11,
   "metadata": {
    "collapsed": false
   },
   "outputs": [
    {
     "data": {
      "text/plain": [
       "array([36, 21, 16, ..., 12, 12, 13], dtype=int64)"
      ]
     },
     "execution_count": 11,
     "metadata": {},
     "output_type": "execute_result"
    }
   ],
   "source": [
    "predictions  = rfc.predict(x_test)"
   ]
  },
  {
   "cell_type": "code",
   "execution_count": 17,
   "metadata": {
    "collapsed": false
   },
   "outputs": [
    {
     "data": {
      "image/png": "[encoded data removed]",
      "text/plain": [
       "<matplotlib.figure.Figure at 0x19a29f98>"
      ]
     },
     "metadata": {},
     "output_type": "display_data"
    },
    {
     "data": {
      "image/png": "[encoded data removed]",
      "text/plain": [
       "<matplotlib.figure.Figure at 0x19654e80>"
      ]
     },
     "metadata": {},
     "output_type": "display_data"
    }
   ],
   "source": [
    "h1 = plt.hist(y_train, bins= 33)\n",
    "plt.title('Category_training')\n",
    "plt.show()\n",
    "plt.hist(predictions, bins=33)\n",
    "plt.title('Category_predicted')\n",
    "plt.show()"
   ]
  },
  {
   "cell_type": "code",
   "execution_count": 7,
   "metadata": {
    "collapsed": false
   },
   "outputs": [
    {
     "data": {
      "text/plain": [
       "array([[ 0.        ,  0.10485376,  0.        , ...,  0.14289809,\n",
       "         0.08148815,  0.01457992],\n",
       "       [ 0.        ,  0.09467441,  0.        , ...,  0.0465997 ,\n",
       "         0.07936186,  0.07218788],\n",
       "       [ 0.        ,  0.05815786,  0.        , ...,  0.04599915,\n",
       "         0.01687331,  0.14272232],\n",
       "       ..., \n",
       "       [ 0.        ,  0.0715025 ,  0.08533007, ...,  0.09056785,\n",
       "         0.00839223,  0.03416453],\n",
       "       [ 0.03713226,  0.02295921,  0.03835615, ...,  0.03740082,\n",
       "         0.06935637,  0.01151006],\n",
       "       [ 0.        ,  0.04261491,  0.03835615, ...,  0.03503436,\n",
       "         0.01025056,  0.04364401]])"
      ]
     },
     "execution_count": 7,
     "metadata": {},
     "output_type": "execute_result"
    }
   ],
   "source": [
    "probs"
   ]
  },
  {
   "cell_type": "code",
   "execution_count": null,
   "metadata": {
    "collapsed": true
   },
   "outputs": [],
   "source": []
  },
  {
   "cell_type": "code",
   "execution_count": null,
   "metadata": {
    "collapsed": true
   },
   "outputs": [],
   "source": []
  },
  {
   "cell_type": "code",
   "execution_count": null,
   "metadata": {
    "collapsed": true
   },
   "outputs": [],
   "source": []
  },
  {
   "cell_type": "code",
   "execution_count": null,
   "metadata": {
    "collapsed": true
   },
   "outputs": [],
   "source": []
  },
  {
   "cell_type": "code",
   "execution_count": null,
   "metadata": {
    "collapsed": true
   },
   "outputs": [],
   "source": []
  },
  {
   "cell_type": "markdown",
   "metadata": {},
   "source": [
    "** work in progress **"
   ]
  },
  {
   "cell_type": "code",
   "execution_count": null,
   "metadata": {
    "collapsed": true
   },
   "outputs": [],
   "source": [
    "x_train = pd.get_dummies(x_train)\n",
    "x_test = pd.get_dummies(x_test)\n",
    "le_category = LabelEncoder()\n",
    "y_train = le_category.fit_transform(y_train)\n",
    "lrc = LogisticRegression(random_state=20,class_weight='auto',multi_class='ovr')\n",
    "param_grid = {'C' : [1,0.5]}\n",
    "model = grid_search.GridSearchCV(estimator = lrc, param_grid = param_grid, n_jobs = -1, cv = 4, verbose = 20)\n",
    "model_fit = model.fit(x_train, y_train)\n",
    "pipe_lrd = pipeline.Pipeline([('lda', LDA(n_components = 50)),('clf', lrc])\n",
    "param_grid = {'rfr__min_samples_leaf' : [250,500],'rfr__subsample':[0.7],\"rfr__learning_rate\":[0.01,0.001]}\n",
    "model = grid_search.GridSearchCV(estimator = clf, param_grid = param_grid, n_jobs = -1, cv = 4, verbose = 20)\n",
    "model_fit = model.fit(xtrain, ytrain)\n",
    "pipe_lrd.fit(x_train_cv, y_train_cv)\n",
    "#prob_lr_lda = pipe_lrd.predict_proba(x_test_cv)[:,1]\n",
    "lg_lda_scores.append(roc_auc_score(y_test_cv,prob_lr_lda))"
   ]
  },
  {
   "cell_type": "code",
   "execution_count": null,
   "metadata": {
    "collapsed": true
   },
   "outputs": [],
   "source": [
    "print(\"\\nTraining Gradient Boosting ....\")\n",
    "gbc = GradientBoostingClassifier(random_state=3, n_estimators = 50, max_features ='auto', subsample=0.8, learning_rate=0.1)\n",
    "param_grid = {'min_samples_leaf': [50,200]}\n",
    "gbc_gs = grid_search.GridSearchCV(estimator = gbc, param_grid = param_grid, cv = 3, n_jobs=-1, error_score=0, verbose=2) # \n",
    "gbc_gs_fit = gbc_gs.fit(x_train, y_train)\n",
    "print(\"Best parameters found by grid search:\", gbc_gs.best_params_)\n",
    "print(\"Best CV score:\", gbc_gs.best_score_)"
   ]
  },
  {
   "cell_type": "code",
   "execution_count": null,
   "metadata": {
    "collapsed": true
   },
   "outputs": [],
   "source": [
    "print(\"\\nTraining AdaBoostClassifier ....\")\n",
    "abc = AdaBoostClassifier(n_estimators=2000, random_state=3,learning_rate=0.3)\n",
    "param_grid = {'learning_rate': [0.3,0.8]}\n",
    "abc_gs = grid_search.GridSearchCV(estimator = abc, param_grid = param_grid, cv = 3, n_jobs=-1, error_score=0, verbose=2) # \n",
    "abc_gs_fit = abc_gs.fit(x_train, y_train)\n",
    "print(\"Best parameters found by grid search:\", abc_gs.best_params_)\n",
    "print(\"Best CV score:\", abc_gs.best_score_)"
   ]
  }
 ],
 "metadata": {
  "kernelspec": {
   "display_name": "Python 3",
   "language": "python",
   "name": "python3"
  },
  "language_info": {
   "codemirror_mode": {
    "name": "ipython",
    "version": 3
   },
   "file_extension": ".py",
   "mimetype": "text/x-python",
   "name": "python",
   "nbconvert_exporter": "python",
   "pygments_lexer": "ipython3",
   "version": "3.5.1"
  }
 },
 "nbformat": 4,
 "nbformat_minor": 0
}
