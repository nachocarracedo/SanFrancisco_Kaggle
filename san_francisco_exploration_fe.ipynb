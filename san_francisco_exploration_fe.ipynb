{
 "cells": [
  {
   "cell_type": "markdown",
   "metadata": {
    "collapsed": false
   },
   "source": [
    "# SF CRIME DATA KAGGLE EXPLORATION AND FEATURE ENGINEERING"
   ]
  },
  {
   "cell_type": "markdown",
   "metadata": {},
   "source": [
    "Dataset contains incidents derived from SFPD Crime Incident Reporting system. The data ranges from 1/1/2003 to 5/13/2015. The training set and test set rotate every week, meaning week 1,3,5,7... belong to test set, week 2,4,6,8 belong to training set.\n",
    "\n",
    "**Data fields**:\n",
    "\n",
    "Dates - timestamp of the crime incident\n",
    "\n",
    "Category - category of the crime incident (only in train.csv). This is the target variable we are going to predict.\n",
    "\n",
    "Descript - detailed description of the crime incident (only in train.csv)\n",
    "\n",
    "DayOfWeek - the day of the week\n",
    "\n",
    "PdDistrict - name of the Police Department District\n",
    "\n",
    "Resolution - how the crime incident was resolved (only in train.csv)\n",
    "\n",
    "Address - the approximate street address of the crime incident\n",
    "\n",
    "X - Longitude\n",
    "\n",
    "Y - Latitude\n",
    "\n",
    "OBJECTIVE: PREDICT CATEGORY OF CRIME BASED ON OTHER FEATURES\n"
   ]
  },
  {
   "cell_type": "code",
   "execution_count": 1,
   "metadata": {
    "collapsed": true
   },
   "outputs": [],
   "source": [
    "import pandas as pd\n",
    "import numpy as np\n",
    "import matplotlib.pyplot as plt\n",
    "import matplotlib.gridspec as gridspec\n",
    "%matplotlib inline\n",
    "\n",
    "import warnings\n",
    "warnings.filterwarnings(\"ignore\", category=np.VisibleDeprecationWarning) "
   ]
  },
  {
   "cell_type": "code",
   "execution_count": 2,
   "metadata": {
    "collapsed": false
   },
   "outputs": [
    {
     "name": "stdout",
     "output_type": "stream",
     "text": [
      "CPython 3.5.1\n",
      "IPython 4.0.0\n",
      "\n",
      "numpy 1.10.1\n",
      "pandas 0.17.0\n",
      "scikit-learn 0.16.1\n",
      "matplotlib 1.4.3\n",
      "\n",
      "compiler   : MSC v.1900 64 bit (AMD64)\n",
      "system     : Windows\n",
      "release    : 7\n",
      "machine    : AMD64\n",
      "processor  : Intel64 Family 6 Model 58 Stepping 9, GenuineIntel\n",
      "CPU cores  : 4\n",
      "interpreter: 64bit\n"
     ]
    }
   ],
   "source": [
    "#python and pkg info\n",
    "%load_ext watermark\n",
    "%watermark --m -v -p numpy,pandas,scikit-learn,matplotlib"
   ]
  },
  {
   "cell_type": "markdown",
   "metadata": {},
   "source": [
    "**Some basic exploration as number of nulls, exploration of output (Category)**"
   ]
  },
  {
   "cell_type": "code",
   "execution_count": 3,
   "metadata": {
    "collapsed": false
   },
   "outputs": [
    {
     "name": "stdout",
     "output_type": "stream",
     "text": [
      "(878049, 9)\n",
      "(884262, 7)\n",
      "Id            0\n",
      "Dates         0\n",
      "DayOfWeek     0\n",
      "PdDistrict    0\n",
      "Address       0\n",
      "X             0\n",
      "Y             0\n",
      "dtype: int64\n",
      "Dates         0\n",
      "Category      0\n",
      "Descript      0\n",
      "DayOfWeek     0\n",
      "PdDistrict    0\n",
      "Resolution    0\n",
      "Address       0\n",
      "X             0\n",
      "Y             0\n",
      "dtype: int64\n"
     ]
    }
   ],
   "source": [
    "#load data\n",
    "train = pd.read_csv(\"C:\\\\Users\\\\carrai1\\\\Desktop\\\\Projects\\\\SanFrancisco\\\\dataset\\\\train.csv\")\n",
    "test = pd.read_csv(\"C:\\\\Users\\\\carrai1\\\\Desktop\\\\Projects\\\\SanFrancisco\\\\dataset\\\\test.csv\")\n",
    "#shape\n",
    "print(train.shape)\n",
    "print(test.shape)\n",
    "#Check for nulls\n",
    "print(test.isnull().sum())\n",
    "print(train.isnull().sum())"
   ]
  },
  {
   "cell_type": "code",
   "execution_count": 4,
   "metadata": {
    "collapsed": false
   },
   "outputs": [
    {
     "name": "stdout",
     "output_type": "stream",
     "text": [
      "['WARRANTS' 'OTHER OFFENSES' 'LARCENY/THEFT' 'VEHICLE THEFT' 'VANDALISM'\n",
      " 'NON-CRIMINAL' 'ROBBERY' 'ASSAULT' 'WEAPON LAWS' 'BURGLARY'\n",
      " 'SUSPICIOUS OCC' 'DRUNKENNESS' 'FORGERY/COUNTERFEITING' 'DRUG/NARCOTIC'\n",
      " 'STOLEN PROPERTY' 'SECONDARY CODES' 'TRESPASS' 'MISSING PERSON' 'FRAUD'\n",
      " 'KIDNAPPING' 'RUNAWAY' 'DRIVING UNDER THE INFLUENCE'\n",
      " 'SEX OFFENSES FORCIBLE' 'PROSTITUTION' 'DISORDERLY CONDUCT' 'ARSON'\n",
      " 'FAMILY OFFENSES' 'LIQUOR LAWS' 'BRIBERY' 'EMBEZZLEMENT' 'SUICIDE'\n",
      " 'LOITERING' 'SEX OFFENSES NON FORCIBLE' 'EXTORTION' 'GAMBLING'\n",
      " 'BAD CHECKS' 'TREA' 'RECOVERED VEHICLE' 'PORNOGRAPHY/OBSCENE MAT']\n",
      "39\n",
      "LARCENY/THEFT                  174900\n",
      "OTHER OFFENSES                 126182\n",
      "NON-CRIMINAL                    92304\n",
      "ASSAULT                         76876\n",
      "DRUG/NARCOTIC                   53971\n",
      "VEHICLE THEFT                   53781\n",
      "VANDALISM                       44725\n",
      "WARRANTS                        42214\n",
      "BURGLARY                        36755\n",
      "SUSPICIOUS OCC                  31414\n",
      "MISSING PERSON                  25989\n",
      "ROBBERY                         23000\n",
      "FRAUD                           16679\n",
      "FORGERY/COUNTERFEITING          10609\n",
      "SECONDARY CODES                  9985\n",
      "WEAPON LAWS                      8555\n",
      "PROSTITUTION                     7484\n",
      "TRESPASS                         7326\n",
      "STOLEN PROPERTY                  4540\n",
      "SEX OFFENSES FORCIBLE            4388\n",
      "DISORDERLY CONDUCT               4320\n",
      "DRUNKENNESS                      4280\n",
      "RECOVERED VEHICLE                3138\n",
      "KIDNAPPING                       2341\n",
      "DRIVING UNDER THE INFLUENCE      2268\n",
      "RUNAWAY                          1946\n",
      "LIQUOR LAWS                      1903\n",
      "ARSON                            1513\n",
      "LOITERING                        1225\n",
      "EMBEZZLEMENT                     1166\n",
      "SUICIDE                           508\n",
      "FAMILY OFFENSES                   491\n",
      "BAD CHECKS                        406\n",
      "BRIBERY                           289\n",
      "EXTORTION                         256\n",
      "SEX OFFENSES NON FORCIBLE         148\n",
      "GAMBLING                          146\n",
      "PORNOGRAPHY/OBSCENE MAT            22\n",
      "TREA                                6\n",
      "Name: Category, dtype: int64\n"
     ]
    }
   ],
   "source": [
    "#Category values\n",
    "print(train[\"Category\"].unique())\n",
    "print(len(train[\"Category\"].unique()))\n",
    "print(train[\"Category\"].value_counts())"
   ]
  },
  {
   "cell_type": "markdown",
   "metadata": {},
   "source": [
    "**I'll join train and test data to make it easier to work with. I will leave train and test to do some exploration.**"
   ]
  },
  {
   "cell_type": "code",
   "execution_count": 5,
   "metadata": {
    "collapsed": false
   },
   "outputs": [
    {
     "name": "stdout",
     "output_type": "stream",
     "text": [
      "(878049, 9)\n",
      "(884262, 7)\n"
     ]
    }
   ],
   "source": [
    "# I join test and train dataset to manipulate both datasets together (fix dates, etc)\n",
    "print(train.shape)\n",
    "print(test.shape)\n",
    "separation = train.shape[0] # use to separate train a test again\n",
    "all_df = pd.concat([train,test], ignore_index=True)"
   ]
  },
  {
   "cell_type": "markdown",
   "metadata": {},
   "source": [
    "**Get dates on different columns**"
   ]
  },
  {
   "cell_type": "code",
   "execution_count": 6,
   "metadata": {
    "collapsed": false
   },
   "outputs": [],
   "source": [
    "#dates (get year, month, day and hour). I drop minutes, segs.\n",
    "all_df[\"Dates\"] = pd.to_datetime(all_df[\"Dates\"])\n",
    "all_df[\"year\"] = all_df[\"Dates\"].dt.year\n",
    "all_df[\"month\"] = all_df[\"Dates\"].dt.month\n",
    "all_df[\"day\"] = all_df[\"Dates\"].dt.day\n",
    "all_df[\"hour\"] = all_df[\"Dates\"].dt.hour\n",
    "all_df[\"min\"] = all_df[\"Dates\"].dt.minute # I get min only to check later if it's day or night"
   ]
  },
  {
   "cell_type": "markdown",
   "metadata": {},
   "source": [
    "** There are some bad values on X,Y. I'll get the longitud and latitud from google maps API and fix those values**"
   ]
  },
  {
   "cell_type": "code",
   "execution_count": 7,
   "metadata": {
    "collapsed": false
   },
   "outputs": [
    {
     "name": "stdout",
     "output_type": "stream",
     "text": [
      "---------- X -------------\n",
      "count    1762311.000000\n",
      "mean        -122.422655\n",
      "std            0.030672\n",
      "min         -122.513642\n",
      "25%         -122.432999\n",
      "50%         -122.416452\n",
      "75%         -122.406959\n",
      "max         -120.500000\n",
      "Name: X, dtype: float64\n",
      "\n",
      "---------- Y -------------\n",
      "count    1762311.000000\n",
      "mean          37.771249\n",
      "std            0.471115\n",
      "min           37.707879\n",
      "25%           37.752394\n",
      "50%           37.775421\n",
      "75%           37.784362\n",
      "max           90.000000\n",
      "Name: Y, dtype: float64\n",
      "\n",
      "--------------\n",
      " number of entries to fix:\n",
      "90    143\n",
      "Name: Y, dtype: int64\n",
      "-120.5    143\n",
      "Name: X, dtype: int64\n",
      "Address: FITCH ST / DONNER AV                          Status: {'lat': 37.7218447, 'lng': -122.3895009}\n",
      "Address: BRYANT ST / SPEAR ST                          Status: {'lat': 37.79070129999999, 'lng': -122.3917495}\n",
      "Address: ELLIS ST / 5THSTNORTH ST                      Status: {'lat': 37.7749295, 'lng': -122.4194155}\n",
      "Address: 5THSTNORTH ST / ELLIS ST                      Status: {'lat': 37.7834238, 'lng': -122.424329}\n",
      "Address: OFARRELL ST / 5THSTNORTH ST                   Status: {'lat': 37.7749295, 'lng': -122.4194155}\n",
      "Address: I-280 / CESAR CHAVEZ ST                       Status: {'lat': 37.7505689, 'lng': -122.3828445}\n",
      "Address: BUSH ST / STGEORGE AL                         Status: {'lat': 37.7749295, 'lng': -122.4194155}\n",
      "Address: CHARLES J BRENHAM PL / CLAY ST                Status: {'lat': 37.791352, 'lng': -122.4293017}\n",
      "Address: 5THSTNORTH ST / EDDY ST                       Status: {'lat': 37.7824275, 'lng': -122.4245564}\n",
      "Address: JAMESLICKFREEWAY HY / SILVER AV               Status: {'lat': 37.7298955, 'lng': -122.4132939}\n",
      "Address: GILMAN AV / FITCH ST                          Status: {'lat': 37.719673, 'lng': -122.3840832}\n",
      "Address: MCALLISTER ST / 7THSTNORTH ST                 Status: {'lat': 37.7749295, 'lng': -122.4194155}\n",
      "Address: LARKIN ST / AUSTIN ST                         Status: {'lat': 37.7887371, 'lng': -122.4237128}\n",
      "Address: 1ST ST / BRANNAN ST                           Status: {'lat': 37.7771386, 'lng': -122.3980714}\n",
      "Address: 1ST ST / BRYANT ST                            Status: {'lat': 37.7734187, 'lng': -122.405858}\n",
      "Address: JOHN F KENNEDY DR / CROSSOVER DR              Status: {'lat': 37.7696644, 'lng': -122.4786956}\n",
      "Address: VANNESS AV / BEACH ST                         Status: {'lat': 37.8020016, 'lng': -122.4247717}\n",
      "Address: LOWER GREAT HY / MARTIN LUTHER KING JR DR     Status: {'lat': 37.7749295, 'lng': -122.4194155}\n",
      "Address: YOSEMITE AV / WILLIAMS AV                     Status: {'lat': 37.7297741, 'lng': -122.3961363}\n",
      "Address: FRONT ST / THE EMBARCADERONORTH ST            Status: {'lat': 37.7917936, 'lng': -122.3988494}\n",
      "Address: BRENHAM PL / WASHINGTON ST                    Status: {'lat': 37.7939897, 'lng': -122.4157008}\n",
      "Address: 3RD ST / JAMES LICK FREEWAY HY                Status: {'lat': 37.7749295, 'lng': -122.4194155}\n",
      "Address: 17TH ST / COLLINGWOOD ST                      Status: {'lat': 37.7576329, 'lng': -122.4357872}\n",
      "Address: FLORIDA ST / ALAMEDA ST                       Status: {'lat': 37.7683623, 'lng': -122.4077489}\n",
      "Address: EDDY ST / 5THSTNORTH ST                       Status: {'lat': 37.7749295, 'lng': -122.4194155}\n",
      "Address: JAMES LICK FREEWAY HY / CESAR CHAVEZ ST       Status: {'lat': 37.7483806, 'lng': -122.4101369}\n",
      "Address: STCHARLES AV / 19TH AV                        Status: {'lat': 37.75051819999999, 'lng': -122.4761096}\n",
      "Address: JAMES LICK FREEWAY HY / 4TH ST                Status: {'lat': 37.7771138, 'lng': -122.3949841}\n",
      "Address: MONTGOMERY ST / THE EMBARCADERONORTH ST       Status: {'lat': 37.7907621, 'lng': -122.4020088}\n",
      "Address: INTERSTATE280 HY / OCEAN AV                   Status: {'lat': 37.7267843, 'lng': -122.4660712}\n",
      "Address: EUCLID AV / AVENUE OF THE PALMS               Status: {'lat': 37.81911420000001, 'lng': -122.373792}\n",
      "Address: JEWETT ST / 5TH ST                            Status: {'lat': 37.7787586, 'lng': -122.4014983}\n",
      "Address: GENEVA AV / INTERSTATE280 HY                  Status: {'lat': 37.7749295, 'lng': -122.4194155}\n",
      "Address: AVENUE OF THE PALMS / EUCLID AV               Status: {'lat': 37.7840699, 'lng': -122.4527552}\n",
      "Address: 3RD ST / ISLAISCREEK ST                       Status: {'lat': 37.7749295, 'lng': -122.4194155}\n",
      "Address: STJOSEPHS AV / TERRAVISTA AV                  Status: {'lat': 37.7749295, 'lng': -122.4194155}\n",
      "Address: ELLICK LN / CALIFORNIA ST                     Status: {'lat': 37.7875491, 'lng': -122.4449279}\n",
      "Address: STELMO WY / MONTEREY BL                       Status: {'lat': 37.7314982, 'lng': -122.4529745}\n",
      "Address: TURK ST / STJOSEPHS AV                        Status: {'lat': 37.7749295, 'lng': -122.4194155}\n",
      "Address: JAMES LICK FREEWAY HY / SILVER AV             Status: {'lat': 37.7298955, 'lng': -122.4132939}\n",
      "Address: SPEAR ST / THE EMBARCADERO SOUTH ST           Status: {'lat': 37.7938155, 'lng': -122.3956819}\n",
      "Address: SPEAR ST / THE EMBARCADEROSOUTH ST            Status: {'lat': 37.7938155, 'lng': -122.3956819}\n",
      "Address: JAMES LICK FREEWAY HY / BAY SHORE BL          Status: {'lat': 37.7749295, 'lng': -122.4194155}\n",
      "Address: PERSIA AV / LA GRANDE AV                      Status: {'lat': 37.7202245, 'lng': -122.4254372}\n",
      "Address: GEARY BL / AVENUE OF THE PALMS                Status: {'lat': 37.81911420000001, 'lng': -122.373792}\n",
      "Address: GREENWICH ST / THE EMBARCADERO NORTH ST       Status: {'lat': 37.8089085, 'lng': -122.41427}\n",
      "Address: PERSIA AV / LAGRANDE AV                       Status: {'lat': 37.7749295, 'lng': -122.4194155}\n",
      "Address: JENNINGS CT / INGALLS ST                      Status: {'lat': 37.7266059, 'lng': -122.386242}\n",
      "Address: JOHN F KENNEDY DR / MARTIN LUTHER KING JR DR  Status: {'lat': 37.7749295, 'lng': -122.4194155}\n",
      "Address: 5TH ST / 5THSTNORTH ST                        Status: {'lat': 37.7749295, 'lng': -122.4194155}\n",
      "Address: 7THSTNORTH ST / MCALLISTER ST                 Status: {'lat': 37.7782204, 'lng': -122.4350524}\n",
      "Address: AUSTIN ST / LARKIN ST                         Status: {'lat': 37.79172519999999, 'lng': -122.4192489}\n",
      "Address: 5THSTNORTH ST / OFARRELL ST                   Status: {'lat': 37.7749295, 'lng': -122.4194155}\n",
      "Address: AVENUE OF THE PALMS / GEARY BL                Status: {'lat': 37.7814097, 'lng': -122.4572501}\n",
      "Address: JENNINGS CT / PHELPS ST                       Status: {'lat': 37.7361027, 'lng': -122.394652}\n",
      "Address: INTERSTATE280 HY / GENEVA AV                  Status: {'lat': 37.7141192, 'lng': -122.4358492}\n",
      "Address: ARGUELLO BL / NORTHRIDGE DR                   Status: {'lat': 37.6790254, 'lng': -122.4933149}\n",
      "Address: I-280 / PENNSYLVANIA AV                       Status: {'lat': 37.76306599999999, 'lng': -122.3938823}\n",
      "Address: BRANNAN ST / 1ST ST                           Status: {'lat': 37.7881209, 'lng': -122.3954958}\n",
      "\n",
      "--------------\n",
      " number of entries to fix:\n",
      "Series([], Name: Y, dtype: int64)\n",
      "Series([], Name: X, dtype: int64)\n"
     ]
    }
   ],
   "source": [
    "# There are 149\n",
    "print(\"---------- X -------------\")\n",
    "print(all_df[\"X\"].describe())\n",
    "print(\"\\n---------- Y -------------\")\n",
    "print(all_df[\"Y\"].describe())\n",
    "print(\"\\n--------------\\n number of entries to fix:\")\n",
    "print(all_df[(all_df['Y'] == 90)]['Y'].value_counts())\n",
    "print(all_df[(all_df['Y'] == 90)]['X'].value_counts())\n",
    "\n",
    "# get latitud for all entries of Y that are 90 from google maps and fix X,Y\n",
    "import requests\n",
    "dic_add = {} # to save what we find online\n",
    "for add in (all_df[(all_df['Y'] == 90)]['Address'].value_counts().index):\n",
    "    fix_add = add.replace(\" \",\"+\")\n",
    "    url = 'https://maps.googleapis.com/maps/api/geocode/json?address=' + fix_add + ',+San+Francisco,+California,+USA'\n",
    "    try:        \n",
    "        response = requests.get(url)\n",
    "        resp_json_payload = response.json()\n",
    "        dic_add[add]=(resp_json_payload['results'][0]['geometry']['location'])\n",
    "    except:\n",
    "        dic_add[add]='***** Fail !!!! *****'\n",
    "    if dic_add[add] != '***** Fail !!!! *****':\n",
    "        all_df.loc[all_df['Address'] == add,'X']  = dic_add[add]['lng']\n",
    "        all_df.loc[all_df['Address'] == add,'Y']  = dic_add[add]['lat']\n",
    "#show results gotten from google maps\n",
    "for k,v in dic_add.items():\n",
    "    print(\"Address: {0:45} Status: {1}\".format(str(k),str(v)))\n",
    "\n",
    "# check if it was fixed\n",
    "print(\"\\n--------------\\n number of entries to fix:\")\n",
    "print(all_df[(all_df['Y'] == 90)]['Y'].value_counts())\n",
    "print(all_df[(all_df['Y'] == 90)]['X'].value_counts())"
   ]
  },
  {
   "cell_type": "markdown",
   "metadata": {},
   "source": [
    "**I load weather info. This data set containts the following info for each day that appears on the training and test sets:**\n",
    "\n",
    "1) Precipitation average\n",
    "\n",
    "2) Temperature average\n",
    "\n",
    "3) Moisture average\n",
    "\n",
    "4) Wind averege\n",
    "\n",
    "5) Sunset time (hour and min)\n",
    "\n",
    "6) Sunrise time (hour and min)\n",
    "\n",
    "\n",
    "**This information is scraped by the followint script: scrape_climate_info.py from wunderground.com and timeanddate.com**\n",
    "\n",
    "Once loaded I'll merge the information with training and test data and I'll also calculate when then the crime was commited during the night or day"
   ]
  },
  {
   "cell_type": "code",
   "execution_count": 8,
   "metadata": {
    "collapsed": false
   },
   "outputs": [
    {
     "name": "stdout",
     "output_type": "stream",
     "text": [
      "<class 'pandas.core.frame.DataFrame'>\n",
      "Int64Index: 4607 entries, 0 to 4606\n",
      "Data columns (total 9 columns):\n",
      "Dates           4607 non-null object\n",
      "avg_moist       4607 non-null int64\n",
      "avg_prec        4607 non-null float64\n",
      "avg_temp        4607 non-null int64\n",
      "avg_wind        4607 non-null float64\n",
      "sunrise_hour    4607 non-null int64\n",
      "sunrise_min     4607 non-null int64\n",
      "sunset_hour     4607 non-null int64\n",
      "sunset_min      4607 non-null int64\n",
      "dtypes: float64(2), int64(6), object(1)\n",
      "memory usage: 359.9+ KB\n"
     ]
    }
   ],
   "source": [
    "weather_time_df = pd.read_csv('weather_time.csv')\n",
    "weather_time_df.info()"
   ]
  },
  {
   "cell_type": "code",
   "execution_count": 9,
   "metadata": {
    "collapsed": false
   },
   "outputs": [
    {
     "name": "stdout",
     "output_type": "stream",
     "text": [
      "Address              0\n",
      "Category        884262\n",
      "Dates                0\n",
      "DayOfWeek            0\n",
      "Descript        884262\n",
      "Id              878049\n",
      "PdDistrict           0\n",
      "Resolution      884262\n",
      "X                    0\n",
      "Y                    0\n",
      "year                 0\n",
      "month                0\n",
      "day                  0\n",
      "hour                 0\n",
      "min                  0\n",
      "date_st              0\n",
      "avg_moist            0\n",
      "avg_prec             0\n",
      "avg_temp             0\n",
      "avg_wind             0\n",
      "sunrise_hour         0\n",
      "sunrise_min          0\n",
      "sunset_hour          0\n",
      "sunset_min           0\n",
      "dtype: int64\n"
     ]
    }
   ],
   "source": [
    "#join weather conditions, sunrise, and sunset\n",
    "weather_time_df[\"Dates\"] = pd.to_datetime(weather_time_df[\"Dates\"])\n",
    "weather_time_df['avg_prec'] = pd.to_numeric(weather_time_df['avg_prec'])\n",
    "weather_time_df[\"year\"] = weather_time_df[\"Dates\"].dt.year\n",
    "weather_time_df[\"month\"] = weather_time_df[\"Dates\"].dt.month\n",
    "weather_time_df[\"day\"] = weather_time_df[\"Dates\"].dt.day\n",
    "weather_time_df[\"date_st\"] = weather_time_df[\"month\"].map(str) + '-' + weather_time_df[\"day\"].map(str) + '-' +  weather_time_df[\"year\"].map(str)\n",
    "all_df[\"date_st\"] = all_df[\"month\"].map(str) + '-' +  all_df[\"day\"].map(str) + '-' + all_df[\"year\"].map(str)\n",
    "weather_time_df.drop([\"year\",\"month\",\"day\",\"Dates\"], axis=1, inplace=True)\n",
    "all_df = all_df.merge(weather_time_df,on='date_st',how='left')\n",
    "print(all_df.isnull().sum())"
   ]
  },
  {
   "cell_type": "code",
   "execution_count": 10,
   "metadata": {
    "collapsed": false
   },
   "outputs": [
    {
     "data": {
      "text/plain": [
       "1    1684372\n",
       "0      77939\n",
       "Name: day_night, dtype: int64"
      ]
     },
     "execution_count": 10,
     "metadata": {},
     "output_type": "execute_result"
    }
   ],
   "source": [
    "def day_night (row):\n",
    "    \"\"\"\n",
    "    Funtion that will calculate if the crime was commited during the day or the night.\n",
    "    It adds 20 min to the sunset and subtracts 20 min to the sunrise which is the time\n",
    "    it needs to get dark, then it calculates when the crime happened.\n",
    "    \"\"\"    \n",
    "    hour = row['hour']\n",
    "    minute = row['min']\n",
    "    sunrise_hour = row['sunrise_hour'] \n",
    "    sunrise_min = row['sunrise_min'] \n",
    "    sunset_hour = row['sunset_hour'] \n",
    "    sunset_min = row['sunset_min'] \n",
    "    \n",
    "    if sunrise_min < 20:\n",
    "        sunrise_min = (sunrise_min - 20) + 60\n",
    "        sunrise_hour = sunrise_hour - 1\n",
    "    else:\n",
    "        sunrise_min = (sunrise_min - 20)\n",
    "        \n",
    "    sunset_min = (sunset_min + 20) % 60 \n",
    "    if sunset_min < 20:\n",
    "        sunset_hour += 1\n",
    "        \n",
    "    if (hour > sunrise_hour) and (hour < sunrise_hour):\n",
    "        return 0 #day\n",
    "    elif (hour == sunrise_hour) and (minute < sunrise_min):\n",
    "        return 1 #night\n",
    "    elif (hour == sunrise_hour) and (minute > sunrise_min):\n",
    "        return 0 #day\n",
    "    elif (hour == sunset_hour) and (minute > sunset_min):\n",
    "        return 1 #night\n",
    "    elif (hour == sunset_hour) and (minute < sunset_min):\n",
    "        return 0 #day\n",
    "    else:\n",
    "        return 1 # night\n",
    "    \n",
    "all_df[\"day_night\"] = all_df.apply(day_night, axis=1)\n",
    "all_df.day_night.value_counts()"
   ]
  },
  {
   "cell_type": "markdown",
   "metadata": {},
   "source": [
    "** Visualizations to explore the data**"
   ]
  },
  {
   "cell_type": "code",
   "execution_count": 11,
   "metadata": {
    "collapsed": false
   },
   "outputs": [
    {
     "name": "stdout",
     "output_type": "stream",
     "text": [
      "(878049, 25)\n",
      "(884262, 25)\n"
     ]
    }
   ],
   "source": [
    "# I separate train and test \n",
    "train = all_df[:separation]\n",
    "test = all_df[separation:]\n",
    "print(train.shape)\n",
    "print(test.shape)"
   ]
  },
  {
   "cell_type": "code",
   "execution_count": 12,
   "metadata": {
    "collapsed": false
   },
   "outputs": [
    {
     "data": {
      "text/plain": [
       "1    1684372\n",
       "0      77939\n",
       "Name: day_night, dtype: int64"
      ]
     },
     "execution_count": 12,
     "metadata": {},
     "output_type": "execute_result"
    }
   ],
   "source": [
    "all_df.day_night.value_counts()"
   ]
  },
  {
   "cell_type": "code",
   "execution_count": 13,
   "metadata": {
    "collapsed": false
   },
   "outputs": [
    {
     "data": {
      "text/plain": [
       "3    13518\n",
       "1    13206\n",
       "4    12209\n",
       "2    12036\n",
       "5     5046\n",
       "Name: month, dtype: int64"
      ]
     },
     "execution_count": 13,
     "metadata": {},
     "output_type": "execute_result"
    }
   ],
   "source": [
    "#year 2015 only goes till May:\n",
    "all_df[all_df[\"year\"]==2015][\"month\"].value_counts()"
   ]
  },
  {
   "cell_type": "code",
   "execution_count": 14,
   "metadata": {
    "collapsed": false
   },
   "outputs": [
    {
     "data": {
      "image/png": "[encoded data removed]",
      "text/plain": [
       "<matplotlib.figure.Figure at 0x8c44e80>"
      ]
     },
     "metadata": {},
     "output_type": "display_data"
    }
   ],
   "source": [
    "#visualize dates ...\n",
    "fig = plt.figure(figsize=(30,28))\n",
    "ax1 = plt.subplot2grid((4,4), (0, 0))\n",
    "plt.xticks(rotation=90)\n",
    "ax2 = plt.subplot2grid((4,4), (1, 0))\n",
    "ax3 = plt.subplot2grid((4,4), (2, 0))\n",
    "ax4 = plt.subplot2grid((4,4), (3, 0))\n",
    "ax12 = plt.subplot2grid((4,4), (0, 1),colspan=2)\n",
    "ax22 = plt.subplot2grid((4,4), (1, 1),colspan=2)\n",
    "ax32 = plt.subplot2grid((4,4), (2, 1),colspan=2)\n",
    "ax42 = plt.subplot2grid((4,4), (3, 1),colspan=2)\n",
    "\n",
    "ax1.set(xticks=range(2003,2016),xlabel='Year' , ylabel='Count', title='Crime_hist_by_Year')\n",
    "ax2.set(xticks=range(1,13), xlim=(1,12), xlabel='Month' , ylabel='Count', title='Crime_hist_by_Month')\n",
    "ax3.set(xticks=range(1,32),xlabel='Day' , ylabel='Count', title='Crime_hist_by_Day_of_Month')\n",
    "ax4.set(xticks=range(0,24),xlabel='Hour' , ylabel='Count', title='Crime_hist_by_Hour')\n",
    "ax12.set(xticks=range(2003,2016),xlabel='Year' , ylabel='Count', title='Crime_hist_by_Year')\n",
    "ax22.set(xticks=range(1,13),xlabel='Month' , ylabel='Count', title='Crime_hist_by_Month')\n",
    "ax32.set(xticks=range(1,32),xlabel='Day' , ylabel='Count', title='Crime_hist_by_Day_of_Month')\n",
    "ax42.set(xticks=range(0,24),xlabel='Hour' , ylabel='Count', title='Crime_hist_by_Hour')\n",
    "\n",
    "ax1.hist(all_df[\"year\"], bins=13) \n",
    "ax2.hist(all_df[\"month\"], bins =12) \n",
    "ax3.hist(all_df[\"day\"], bins=31)\n",
    "ax4.hist(all_df[\"hour\"], bins=24) \n",
    "#ax5 = all_df[\"DayOfWeek\"].value_counts().plot(kind='bar')\n",
    "\n",
    "hist_category_year = []\n",
    "hist_category_month = []\n",
    "hist_category_day = []\n",
    "hist_category_hour = []\n",
    "top5cat = train[\"Category\"].value_counts()[:5].index\n",
    "for category in top5cat:\n",
    "    hist_category_year.append((train[train[\"Category\"]==category][\"year\"]).values)\n",
    "    hist_category_month.append((train[train[\"Category\"]==category][\"month\"]).values)\n",
    "    hist_category_day.append((train[train[\"Category\"]==category][\"day\"]).values)\n",
    "    hist_category_hour.append((train[train[\"Category\"]==category][\"hour\"]).values)\n",
    "     \n",
    "ax12.hist(hist_category_year,bins=13,label=list(top5cat)) \n",
    "ax22.hist(hist_category_month,bins=12) \n",
    "ax32.hist(hist_category_day,bins=31)\n",
    "ax42.hist(hist_category_hour,bins=24,label=list(top5cat)) \n",
    "\n",
    "ax12.legend(loc=0,prop={'size':10})\n",
    "ax42.legend(loc=0,prop={'size':10})\n",
    "\n",
    "plt.show()"
   ]
  },
  {
   "cell_type": "code",
   "execution_count": 15,
   "metadata": {
    "collapsed": false
   },
   "outputs": [
    {
     "name": "stdout",
     "output_type": "stream",
     "text": [
      "Number of addresses with more than one crime:  21053\n"
     ]
    },
    {
     "data": {
      "text/html": [
       "<div>\n",
       "<table border=\"1\" class=\"dataframe\">\n",
       "  <thead>\n",
       "    <tr style=\"text-align: right;\">\n",
       "      <th></th>\n",
       "      <th>Address</th>\n",
       "      <th>Number Unique Categories</th>\n",
       "      <th>Times</th>\n",
       "    </tr>\n",
       "  </thead>\n",
       "  <tbody>\n",
       "    <tr>\n",
       "      <th>0</th>\n",
       "      <td>800 Block of BRYANT ST</td>\n",
       "      <td>38</td>\n",
       "      <td>26533</td>\n",
       "    </tr>\n",
       "    <tr>\n",
       "      <th>1</th>\n",
       "      <td>800 Block of MARKET ST</td>\n",
       "      <td>34</td>\n",
       "      <td>6581</td>\n",
       "    </tr>\n",
       "    <tr>\n",
       "      <th>2</th>\n",
       "      <td>2000 Block of MISSION ST</td>\n",
       "      <td>33</td>\n",
       "      <td>5097</td>\n",
       "    </tr>\n",
       "    <tr>\n",
       "      <th>3</th>\n",
       "      <td>1000 Block of POTRERO AV</td>\n",
       "      <td>34</td>\n",
       "      <td>4063</td>\n",
       "    </tr>\n",
       "    <tr>\n",
       "      <th>4</th>\n",
       "      <td>900 Block of MARKET ST</td>\n",
       "      <td>30</td>\n",
       "      <td>3251</td>\n",
       "    </tr>\n",
       "    <tr>\n",
       "      <th>5</th>\n",
       "      <td>0 Block of TURK ST</td>\n",
       "      <td>28</td>\n",
       "      <td>3228</td>\n",
       "    </tr>\n",
       "    <tr>\n",
       "      <th>6</th>\n",
       "      <td>0 Block of 6TH ST</td>\n",
       "      <td>33</td>\n",
       "      <td>2884</td>\n",
       "    </tr>\n",
       "    <tr>\n",
       "      <th>7</th>\n",
       "      <td>300 Block of ELLIS ST</td>\n",
       "      <td>31</td>\n",
       "      <td>2703</td>\n",
       "    </tr>\n",
       "    <tr>\n",
       "      <th>8</th>\n",
       "      <td>400 Block of ELLIS ST</td>\n",
       "      <td>33</td>\n",
       "      <td>2590</td>\n",
       "    </tr>\n",
       "    <tr>\n",
       "      <th>9</th>\n",
       "      <td>16TH ST / MISSION ST</td>\n",
       "      <td>28</td>\n",
       "      <td>2504</td>\n",
       "    </tr>\n",
       "  </tbody>\n",
       "</table>\n",
       "</div>"
      ],
      "text/plain": [
       "                    Address  Number Unique Categories  Times\n",
       "0    800 Block of BRYANT ST                        38  26533\n",
       "1    800 Block of MARKET ST                        34   6581\n",
       "2  2000 Block of MISSION ST                        33   5097\n",
       "3  1000 Block of POTRERO AV                        34   4063\n",
       "4    900 Block of MARKET ST                        30   3251\n",
       "5        0 Block of TURK ST                        28   3228\n",
       "6         0 Block of 6TH ST                        33   2884\n",
       "7     300 Block of ELLIS ST                        31   2703\n",
       "8     400 Block of ELLIS ST                        33   2590\n",
       "9      16TH ST / MISSION ST                        28   2504"
      ]
     },
     "execution_count": 15,
     "metadata": {},
     "output_type": "execute_result"
    }
   ],
   "source": [
    "print(\"Number of addresses with more than one crime: \" , len(train[\"Address\"][train[\"Address\"].value_counts().values > 1]))\n",
    "top10address = train[\"Address\"].value_counts().head(10) # Get first 10\n",
    "# for each one of these address is there a common crime??? NO!!! \n",
    "n_unique_categories = []\n",
    "for ad in top10address.index:\n",
    "    n_unique_categories.append(len((train[train[\"Address\"]==ad][\"Category\"]).unique()))\n",
    "pd.DataFrame({\"Address\":top10address.index,\"Times\": top10address.values, \"Number Unique Categories\": n_unique_categories})"
   ]
  },
  {
   "cell_type": "code",
   "execution_count": 16,
   "metadata": {
    "collapsed": false,
    "scrolled": true
   },
   "outputs": [
    {
     "data": {
      "image/png": "[encoded data removed]",
      "text/plain": [
       "<matplotlib.figure.Figure at 0x1a504b38>"
      ]
     },
     "metadata": {},
     "output_type": "display_data"
    }
   ],
   "source": [
    "# PdDistrict\n",
    "#print(train.PdDistrict.value_counts())\n",
    "districs = train.PdDistrict.unique()\n",
    "\n",
    "# Visualize type top 10 crimes per discrict\n",
    "subset_list = []\n",
    "for d in districs:\n",
    "    subset_list.append(train[train[\"PdDistrict\"]==d][\"Category\"])\n",
    "       \n",
    "fig = plt.figure(figsize=(20,15))\n",
    "ax1 = fig.add_subplot(2,5,1)\n",
    "ax1 = subset_list[0].value_counts()[:5].plot(kind='bar')\n",
    "ax1.set(title=districs[0])\n",
    "#plt.xticks(rotation=25)\n",
    "ax2 = fig.add_subplot(2,5,2)\n",
    "ax2 = subset_list[1].value_counts()[:5].plot(kind='bar')\n",
    "ax2.set(title=districs[1])\n",
    "ax3 = fig.add_subplot(2,5,3)\n",
    "ax3 = subset_list[2].value_counts()[:5].plot(kind='bar')\n",
    "ax3.set(title=districs[2])\n",
    "ax4 = fig.add_subplot(2,5,4)\n",
    "ax4 = subset_list[3].value_counts()[:5].plot(kind='bar')\n",
    "ax4.set(title=districs[3])\n",
    "ax5 = fig.add_subplot(2,5,5)\n",
    "ax5 = subset_list[4].value_counts()[:5].plot(kind='bar')\n",
    "ax5.set(title=districs[4])\n",
    "ax6 = fig.add_subplot(2,5,6)\n",
    "ax6 = subset_list[5].value_counts()[:5].plot(kind='bar')\n",
    "ax6.set(title=districs[5])\n",
    "ax7 = fig.add_subplot(2,5,7)\n",
    "ax7 = subset_list[6].value_counts()[:5].plot(kind='bar')\n",
    "ax7.set(title=districs[6])\n",
    "ax8 = fig.add_subplot(2,5,8)\n",
    "ax8 = subset_list[7].value_counts()[:5].plot(kind='bar')\n",
    "ax8.set(title=districs[7])\n",
    "ax9 = fig.add_subplot(2,5,9)\n",
    "ax9 = subset_list[8].value_counts()[:5].plot(kind='bar')\n",
    "ax9.set(title=districs[8])\n",
    "ax10 = fig.add_subplot(2,5,10)\n",
    "ax10 = subset_list[9].value_counts()[:5].plot(kind='bar')\n",
    "ax10.set(title=districs[9])\n",
    "plt.tight_layout()\n",
    "plt.show()"
   ]
  },
  {
   "cell_type": "markdown",
   "metadata": {
    "collapsed": false,
    "scrolled": false
   },
   "source": [
    "** Get x_train, y_train and x_test ready for ML **"
   ]
  },
  {
   "cell_type": "code",
   "execution_count": 17,
   "metadata": {
    "collapsed": false,
    "scrolled": true
   },
   "outputs": [
    {
     "name": "stderr",
     "output_type": "stream",
     "text": [
      "C:\\Anaconda3\\lib\\site-packages\\ipykernel\\__main__.py:5: SettingWithCopyWarning: \n",
      "A value is trying to be set on a copy of a slice from a DataFrame\n",
      "\n",
      "See the caveats in the documentation: http://pandas.pydata.org/pandas-docs/stable/indexing.html#indexing-view-versus-copy\n",
      "C:\\Anaconda3\\lib\\site-packages\\ipykernel\\__main__.py:8: SettingWithCopyWarning: \n",
      "A value is trying to be set on a copy of a slice from a DataFrame\n",
      "\n",
      "See the caveats in the documentation: http://pandas.pydata.org/pandas-docs/stable/indexing.html#indexing-view-versus-copy\n"
     ]
    }
   ],
   "source": [
    "#I make a copy of all_df becasue I'll be droping columns \n",
    "all_df_ml = all_df.copy()\n",
    "all_df_ml.drop([\"Address\",\"Dates\",\"Descript\",\"Resolution\",\"date_st\",\"min\",\"sunset_hour\",\"sunset_min\",\"sunrise_hour\",\"sunrise_min\"], axis=1, inplace=True)\n",
    "train_ml = all_df_ml[:separation]\n",
    "train_ml.drop([\"Id\"], axis=1, inplace=True)\n",
    "#train_ml.reset_index(inplace=True)\n",
    "test_ml = all_df_ml[separation:]\n",
    "test_ml.drop([\"Category\"], axis=1, inplace=True)"
   ]
  },
  {
   "cell_type": "code",
   "execution_count": 18,
   "metadata": {
    "collapsed": true
   },
   "outputs": [],
   "source": [
    "# generate x_train, y_train and x_test for ML\n",
    "y_train = train_ml[\"Category\"].values\n",
    "x_train = train_ml.drop(\"Category\",axis=1)\n",
    "id_test = test_ml[\"Id\"].values\n",
    "x_test = test_ml.drop(\"Id\",axis=1)\n",
    "# Save\n",
    "x_train.to_csv('x_train.csv',index=False)\n",
    "pd.DataFrame(y_train).to_csv('y_train.csv',index=False)\n",
    "pd.DataFrame(id_test).to_csv('id_test.csv',index=False)\n",
    "x_test.to_csv('x_test.csv',index=False)"
   ]
  },
  {
   "cell_type": "code",
   "execution_count": 19,
   "metadata": {
    "collapsed": false
   },
   "outputs": [
    {
     "data": {
      "text/html": [
       "<div>\n",
       "<table border=\"1\" class=\"dataframe\">\n",
       "  <thead>\n",
       "    <tr style=\"text-align: right;\">\n",
       "      <th></th>\n",
       "      <th>DayOfWeek</th>\n",
       "      <th>PdDistrict</th>\n",
       "      <th>X</th>\n",
       "      <th>Y</th>\n",
       "      <th>year</th>\n",
       "      <th>month</th>\n",
       "      <th>day</th>\n",
       "      <th>hour</th>\n",
       "      <th>avg_moist</th>\n",
       "      <th>avg_prec</th>\n",
       "      <th>avg_temp</th>\n",
       "      <th>avg_wind</th>\n",
       "      <th>day_night</th>\n",
       "    </tr>\n",
       "  </thead>\n",
       "  <tbody>\n",
       "    <tr>\n",
       "      <th>0</th>\n",
       "      <td>Wednesday</td>\n",
       "      <td>NORTHERN</td>\n",
       "      <td>-122.425892</td>\n",
       "      <td>37.774599</td>\n",
       "      <td>2015</td>\n",
       "      <td>5</td>\n",
       "      <td>13</td>\n",
       "      <td>23</td>\n",
       "      <td>44</td>\n",
       "      <td>0</td>\n",
       "      <td>59</td>\n",
       "      <td>12</td>\n",
       "      <td>1</td>\n",
       "    </tr>\n",
       "    <tr>\n",
       "      <th>1</th>\n",
       "      <td>Wednesday</td>\n",
       "      <td>NORTHERN</td>\n",
       "      <td>-122.425892</td>\n",
       "      <td>37.774599</td>\n",
       "      <td>2015</td>\n",
       "      <td>5</td>\n",
       "      <td>13</td>\n",
       "      <td>23</td>\n",
       "      <td>44</td>\n",
       "      <td>0</td>\n",
       "      <td>59</td>\n",
       "      <td>12</td>\n",
       "      <td>1</td>\n",
       "    </tr>\n",
       "    <tr>\n",
       "      <th>2</th>\n",
       "      <td>Wednesday</td>\n",
       "      <td>NORTHERN</td>\n",
       "      <td>-122.424363</td>\n",
       "      <td>37.800414</td>\n",
       "      <td>2015</td>\n",
       "      <td>5</td>\n",
       "      <td>13</td>\n",
       "      <td>23</td>\n",
       "      <td>44</td>\n",
       "      <td>0</td>\n",
       "      <td>59</td>\n",
       "      <td>12</td>\n",
       "      <td>1</td>\n",
       "    </tr>\n",
       "    <tr>\n",
       "      <th>3</th>\n",
       "      <td>Wednesday</td>\n",
       "      <td>NORTHERN</td>\n",
       "      <td>-122.426995</td>\n",
       "      <td>37.800873</td>\n",
       "      <td>2015</td>\n",
       "      <td>5</td>\n",
       "      <td>13</td>\n",
       "      <td>23</td>\n",
       "      <td>44</td>\n",
       "      <td>0</td>\n",
       "      <td>59</td>\n",
       "      <td>12</td>\n",
       "      <td>1</td>\n",
       "    </tr>\n",
       "    <tr>\n",
       "      <th>4</th>\n",
       "      <td>Wednesday</td>\n",
       "      <td>PARK</td>\n",
       "      <td>-122.438738</td>\n",
       "      <td>37.771541</td>\n",
       "      <td>2015</td>\n",
       "      <td>5</td>\n",
       "      <td>13</td>\n",
       "      <td>23</td>\n",
       "      <td>44</td>\n",
       "      <td>0</td>\n",
       "      <td>59</td>\n",
       "      <td>12</td>\n",
       "      <td>1</td>\n",
       "    </tr>\n",
       "  </tbody>\n",
       "</table>\n",
       "</div>"
      ],
      "text/plain": [
       "   DayOfWeek PdDistrict           X          Y  year  month  day  hour  \\\n",
       "0  Wednesday   NORTHERN -122.425892  37.774599  2015      5   13    23   \n",
       "1  Wednesday   NORTHERN -122.425892  37.774599  2015      5   13    23   \n",
       "2  Wednesday   NORTHERN -122.424363  37.800414  2015      5   13    23   \n",
       "3  Wednesday   NORTHERN -122.426995  37.800873  2015      5   13    23   \n",
       "4  Wednesday       PARK -122.438738  37.771541  2015      5   13    23   \n",
       "\n",
       "   avg_moist  avg_prec  avg_temp  avg_wind  day_night  \n",
       "0         44         0        59        12          1  \n",
       "1         44         0        59        12          1  \n",
       "2         44         0        59        12          1  \n",
       "3         44         0        59        12          1  \n",
       "4         44         0        59        12          1  "
      ]
     },
     "execution_count": 19,
     "metadata": {},
     "output_type": "execute_result"
    }
   ],
   "source": [
    "x_train.head()"
   ]
  },
  {
   "cell_type": "code",
   "execution_count": 21,
   "metadata": {
    "collapsed": false
   },
   "outputs": [
    {
     "data": {
      "text/html": [
       "<div>\n",
       "<table border=\"1\" class=\"dataframe\">\n",
       "  <thead>\n",
       "    <tr style=\"text-align: right;\">\n",
       "      <th></th>\n",
       "      <th>DayOfWeek</th>\n",
       "      <th>PdDistrict</th>\n",
       "      <th>X</th>\n",
       "      <th>Y</th>\n",
       "      <th>year</th>\n",
       "      <th>month</th>\n",
       "      <th>day</th>\n",
       "      <th>hour</th>\n",
       "      <th>avg_moist</th>\n",
       "      <th>avg_prec</th>\n",
       "      <th>avg_temp</th>\n",
       "      <th>avg_wind</th>\n",
       "      <th>day_night</th>\n",
       "    </tr>\n",
       "  </thead>\n",
       "  <tbody>\n",
       "    <tr>\n",
       "      <th>878049</th>\n",
       "      <td>Sunday</td>\n",
       "      <td>BAYVIEW</td>\n",
       "      <td>-122.399588</td>\n",
       "      <td>37.735051</td>\n",
       "      <td>2015</td>\n",
       "      <td>5</td>\n",
       "      <td>10</td>\n",
       "      <td>23</td>\n",
       "      <td>47</td>\n",
       "      <td>0</td>\n",
       "      <td>57</td>\n",
       "      <td>13</td>\n",
       "      <td>1</td>\n",
       "    </tr>\n",
       "    <tr>\n",
       "      <th>878050</th>\n",
       "      <td>Sunday</td>\n",
       "      <td>BAYVIEW</td>\n",
       "      <td>-122.391523</td>\n",
       "      <td>37.732432</td>\n",
       "      <td>2015</td>\n",
       "      <td>5</td>\n",
       "      <td>10</td>\n",
       "      <td>23</td>\n",
       "      <td>47</td>\n",
       "      <td>0</td>\n",
       "      <td>57</td>\n",
       "      <td>13</td>\n",
       "      <td>1</td>\n",
       "    </tr>\n",
       "    <tr>\n",
       "      <th>878051</th>\n",
       "      <td>Sunday</td>\n",
       "      <td>NORTHERN</td>\n",
       "      <td>-122.426002</td>\n",
       "      <td>37.792212</td>\n",
       "      <td>2015</td>\n",
       "      <td>5</td>\n",
       "      <td>10</td>\n",
       "      <td>23</td>\n",
       "      <td>47</td>\n",
       "      <td>0</td>\n",
       "      <td>57</td>\n",
       "      <td>13</td>\n",
       "      <td>1</td>\n",
       "    </tr>\n",
       "    <tr>\n",
       "      <th>878052</th>\n",
       "      <td>Sunday</td>\n",
       "      <td>INGLESIDE</td>\n",
       "      <td>-122.437394</td>\n",
       "      <td>37.721412</td>\n",
       "      <td>2015</td>\n",
       "      <td>5</td>\n",
       "      <td>10</td>\n",
       "      <td>23</td>\n",
       "      <td>47</td>\n",
       "      <td>0</td>\n",
       "      <td>57</td>\n",
       "      <td>13</td>\n",
       "      <td>1</td>\n",
       "    </tr>\n",
       "    <tr>\n",
       "      <th>878053</th>\n",
       "      <td>Sunday</td>\n",
       "      <td>INGLESIDE</td>\n",
       "      <td>-122.437394</td>\n",
       "      <td>37.721412</td>\n",
       "      <td>2015</td>\n",
       "      <td>5</td>\n",
       "      <td>10</td>\n",
       "      <td>23</td>\n",
       "      <td>47</td>\n",
       "      <td>0</td>\n",
       "      <td>57</td>\n",
       "      <td>13</td>\n",
       "      <td>1</td>\n",
       "    </tr>\n",
       "  </tbody>\n",
       "</table>\n",
       "</div>"
      ],
      "text/plain": [
       "       DayOfWeek PdDistrict           X          Y  year  month  day  hour  \\\n",
       "878049    Sunday    BAYVIEW -122.399588  37.735051  2015      5   10    23   \n",
       "878050    Sunday    BAYVIEW -122.391523  37.732432  2015      5   10    23   \n",
       "878051    Sunday   NORTHERN -122.426002  37.792212  2015      5   10    23   \n",
       "878052    Sunday  INGLESIDE -122.437394  37.721412  2015      5   10    23   \n",
       "878053    Sunday  INGLESIDE -122.437394  37.721412  2015      5   10    23   \n",
       "\n",
       "        avg_moist  avg_prec  avg_temp  avg_wind  day_night  \n",
       "878049         47         0        57        13          1  \n",
       "878050         47         0        57        13          1  \n",
       "878051         47         0        57        13          1  \n",
       "878052         47         0        57        13          1  \n",
       "878053         47         0        57        13          1  "
      ]
     },
     "execution_count": 21,
     "metadata": {},
     "output_type": "execute_result"
    }
   ],
   "source": [
    "x_test.head()"
   ]
  }
 ],
 "metadata": {
  "kernelspec": {
   "display_name": "Python 3",
   "language": "python",
   "name": "python3"
  },
  "language_info": {
   "codemirror_mode": {
    "name": "ipython",
    "version": 3
   },
   "file_extension": ".py",
   "mimetype": "text/x-python",
   "name": "python",
   "nbconvert_exporter": "python",
   "pygments_lexer": "ipython3",
   "version": "3.5.1"
  }
 },
 "nbformat": 4,
 "nbformat_minor": 0
}
